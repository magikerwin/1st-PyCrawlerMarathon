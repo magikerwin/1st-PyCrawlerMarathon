{
 "cells": [
  {
   "cell_type": "markdown",
   "metadata": {},
   "source": [
    "# 加速：多線程爬蟲\n",
    "\n",
    "\n",
    "\n",
    "* 了解知乎 API 使用方式與回傳內容\n",
    "* 撰寫程式存取 API 且添加標頭"
   ]
  },
  {
   "cell_type": "markdown",
   "metadata": {},
   "source": [
    "## Python 中的多線程"
   ]
  },
  {
   "cell_type": "code",
   "execution_count": 1,
   "metadata": {},
   "outputs": [
    {
     "data": {
      "text/plain": [
       "11272"
      ]
     },
     "execution_count": 1,
     "metadata": {},
     "output_type": "execute_result"
    },
    {
     "name": "stdout",
     "output_type": "stream",
     "text": [
      "Thread-1  =>  0\n",
      "Thread-1  =>  2\n",
      "Thread-2  =>  1\n",
      "Thread-1  =>  4\n",
      "Thread-2  =>  3\n"
     ]
    }
   ],
   "source": [
    "import _thread\n",
    "import time\n",
    "\n",
    "def print_time( threadName, data, delay):\n",
    "    for d in data:\n",
    "        time.sleep(delay)\n",
    "        print(threadName, ' => ', d)\n",
    "\n",
    "_thread.start_new_thread( print_time, (\"Thread-1\", range(0, 5, 2), 2, ) )\n",
    "_thread.start_new_thread( print_time, (\"Thread-2\", range(1, 5, 2), 5, ) )\n"
   ]
  },
  {
   "cell_type": "markdown",
   "metadata": {},
   "source": [
    "## 多線程爬蟲\n"
   ]
  },
  {
   "cell_type": "code",
   "execution_count": 2,
   "metadata": {},
   "outputs": [
    {
     "name": "stdout",
     "output_type": "stream",
     "text": [
      ".\n",
      ".\n",
      ".\n",
      ".\n",
      ".\n",
      "26.787553310394287\n"
     ]
    }
   ],
   "source": [
    "import requests\n",
    "import time\n",
    "\n",
    "urls = ['http://python.org', 'http://python.org', 'http://python.org',\n",
    "        'http://python.org', 'http://python.org']\n",
    "\n",
    "startTime = time.time()\n",
    "\n",
    "for url in urls:\n",
    "    print(\".\")\n",
    "    requests.get(url)\n",
    "\n",
    "finishTime = time.time()\n",
    "print(finishTime - startTime) # 正常情況的爬蟲所需時間"
   ]
  },
  {
   "cell_type": "code",
   "execution_count": 3,
   "metadata": {},
   "outputs": [
    {
     "name": "stdout",
     "output_type": "stream",
     "text": [
      ".\n",
      ".\n",
      ".\n",
      ".\n",
      ".\n",
      "0.0\n"
     ]
    }
   ],
   "source": [
    "import requests\n",
    "import _thread\n",
    "import time\n",
    "\n",
    "urls = ['http://python.org', 'http://python.org', 'http://python.org',\n",
    "        'http://python.org', 'http://python.org']\n",
    "\n",
    "startTime = time.time()\n",
    "\n",
    "for url in urls:\n",
    "    print(\".\")\n",
    "    _thread.start_new_thread( requests.get, (url, ) )\n",
    "\n",
    "finishTime = time.time()\n",
    "print(finishTime - startTime) # 利用 thread 的爬蟲所需時間"
   ]
  },
  {
   "cell_type": "markdown",
   "metadata": {},
   "source": [
    "## 作業目標\n",
    "\n",
    "* 找一個之前實作過的爬蟲改用多線程改寫，比較前後時間的差異。\n",
    "\n",
    "\n",
    "\n"
   ]
  },
  {
   "cell_type": "code",
   "execution_count": null,
   "metadata": {},
   "outputs": [],
   "source": []
  }
 ],
 "metadata": {
  "kernelspec": {
   "display_name": "PCM",
   "language": "python",
   "name": "pcm"
  },
  "language_info": {
   "codemirror_mode": {
    "name": "ipython",
    "version": 3
   },
   "file_extension": ".py",
   "mimetype": "text/x-python",
   "name": "python",
   "nbconvert_exporter": "python",
   "pygments_lexer": "ipython3",
   "version": "3.7.5"
  }
 },
 "nbformat": 4,
 "nbformat_minor": 4
}
