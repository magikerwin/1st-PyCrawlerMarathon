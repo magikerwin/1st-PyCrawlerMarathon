{
 "cells": [
  {
   "cell_type": "markdown",
   "metadata": {},
   "source": [
    "# Python 下載XML檔案與解析\n",
    "\n",
    "\n",
    "* 了解 xml 檔案格式與內容\n",
    "* 能夠利用套件存取 xml 格式的檔案\n"
   ]
  },
  {
   "cell_type": "markdown",
   "metadata": {},
   "source": [
    "## 作業目標\n",
    "\n",
    "* 比較一下範例檔案中的「File I/O」與「xmltodict」讀出來的內容有什麼差異\n",
    "\n",
    "* 根據範例檔案的結果：\n",
    "    1. 請問高雄市有多少地區有溫度資料？\n",
    "    2. 請取出每一個地區所記錄的第一個時間點跟溫度\n",
    "    3. 請取出第一個地區所記錄的每一個時間點跟溫度"
   ]
  },
  {
   "cell_type": "markdown",
   "metadata": {},
   "source": [
    "### 比較一下範例檔案中的「File I/O」與「xmltodict」讀出來的內容有什麼差異\n"
   ]
  },
  {
   "cell_type": "code",
   "execution_count": 1,
   "metadata": {},
   "outputs": [],
   "source": [
    "'''\n",
    "Your Code\n",
    "'''\n",
    "import xmltodict\n",
    "\n",
    "# 讀檔案\n",
    "with open(\"../data/64_72hr_CH.xml\", \"r\", encoding='utf-8') as fh:\n",
    "    xml = fh.read()\n",
    "    d = dict(xmltodict.parse(xml))"
   ]
  },
  {
   "cell_type": "code",
   "execution_count": null,
   "metadata": {},
   "outputs": [],
   "source": [
    "#print(\"File I/O:\\n\", xml)"
   ]
  },
  {
   "cell_type": "code",
   "execution_count": null,
   "metadata": {},
   "outputs": [],
   "source": [
    "#print(\"xmltodict:\\n\", d)"
   ]
  },
  {
   "cell_type": "markdown",
   "metadata": {},
   "source": [
    "### 根據範例檔案的結果：\n",
    "\n",
    "1. 請問高雄市有多少地區有溫度資料？\n",
    "2. 請取出每一個地區所記錄的第一個時間點跟溫度\n",
    "3. 請取出第一個地區所記錄的每一個時間點跟溫度"
   ]
  },
  {
   "cell_type": "code",
   "execution_count": 2,
   "metadata": {},
   "outputs": [
    {
     "name": "stdout",
     "output_type": "stream",
     "text": [
      "鹽埕區\n",
      "鼓山區\n",
      "左營區\n",
      "楠梓區\n",
      "三民區\n",
      "新興區\n",
      "前金區\n",
      "苓雅區\n",
      "前鎮區\n",
      "旗津區\n",
      "小港區\n",
      "鳳山區\n",
      "林園區\n",
      "大寮區\n",
      "大樹區\n",
      "大社區\n",
      "仁武區\n",
      "鳥松區\n",
      "岡山區\n",
      "橋頭區\n",
      "燕巢區\n",
      "田寮區\n",
      "阿蓮區\n",
      "路竹區\n",
      "湖內區\n",
      "茄萣區\n",
      "永安區\n",
      "彌陀區\n",
      "梓官區\n",
      "旗山區\n",
      "美濃區\n",
      "六龜區\n",
      "甲仙區\n",
      "杉林區\n",
      "內門區\n",
      "茂林區\n",
      "桃源區\n",
      "那瑪夏區\n"
     ]
    }
   ],
   "source": [
    "# 1. 請問高雄市有多少地區有溫度資料？\n",
    "\n",
    "'''\n",
    "Your Code\n",
    "'''\n",
    "for loc in d['cwbopendata']['dataset']['locations']['location']:\n",
    "    print(dict(loc)['locationName'])"
   ]
  },
  {
   "cell_type": "code",
   "execution_count": 3,
   "metadata": {},
   "outputs": [
    {
     "name": "stdout",
     "output_type": "stream",
     "text": [
      "鹽埕區 2019-12-01T12:00:00+08:00 27\n",
      "鼓山區 2019-12-01T12:00:00+08:00 27\n",
      "左營區 2019-12-01T12:00:00+08:00 26\n",
      "楠梓區 2019-12-01T12:00:00+08:00 26\n",
      "三民區 2019-12-01T12:00:00+08:00 26\n",
      "新興區 2019-12-01T12:00:00+08:00 27\n",
      "前金區 2019-12-01T12:00:00+08:00 27\n",
      "苓雅區 2019-12-01T12:00:00+08:00 27\n",
      "前鎮區 2019-12-01T12:00:00+08:00 27\n",
      "旗津區 2019-12-01T12:00:00+08:00 26\n",
      "小港區 2019-12-01T12:00:00+08:00 28\n",
      "鳳山區 2019-12-01T12:00:00+08:00 27\n",
      "林園區 2019-12-01T12:00:00+08:00 27\n",
      "大寮區 2019-12-01T12:00:00+08:00 27\n",
      "大樹區 2019-12-01T12:00:00+08:00 27\n",
      "大社區 2019-12-01T12:00:00+08:00 26\n",
      "仁武區 2019-12-01T12:00:00+08:00 26\n",
      "鳥松區 2019-12-01T12:00:00+08:00 27\n",
      "岡山區 2019-12-01T12:00:00+08:00 27\n",
      "橋頭區 2019-12-01T12:00:00+08:00 27\n",
      "燕巢區 2019-12-01T12:00:00+08:00 27\n",
      "田寮區 2019-12-01T12:00:00+08:00 27\n",
      "阿蓮區 2019-12-01T12:00:00+08:00 27\n",
      "路竹區 2019-12-01T12:00:00+08:00 27\n",
      "湖內區 2019-12-01T12:00:00+08:00 25\n",
      "茄萣區 2019-12-01T12:00:00+08:00 25\n",
      "永安區 2019-12-01T12:00:00+08:00 25\n",
      "彌陀區 2019-12-01T12:00:00+08:00 25\n",
      "梓官區 2019-12-01T12:00:00+08:00 26\n",
      "旗山區 2019-12-01T12:00:00+08:00 27\n",
      "美濃區 2019-12-01T12:00:00+08:00 28\n",
      "六龜區 2019-12-01T12:00:00+08:00 27\n",
      "甲仙區 2019-12-01T12:00:00+08:00 27\n",
      "杉林區 2019-12-01T12:00:00+08:00 30\n",
      "內門區 2019-12-01T12:00:00+08:00 28\n",
      "茂林區 2019-12-01T12:00:00+08:00 27\n",
      "桃源區 2019-12-01T12:00:00+08:00 25\n",
      "那瑪夏區 2019-12-01T12:00:00+08:00 24\n"
     ]
    }
   ],
   "source": [
    "# 2. 請取出每一個地區所記錄的第一個時間點跟溫度\n",
    "\n",
    "'''\n",
    "Your Code\n",
    "'''\n",
    "for loc in d['cwbopendata']['dataset']['locations']['location']:\n",
    "    name = dict(loc)['locationName']\n",
    "    weatherElement = dict(dict(loc)['weatherElement'][0])\n",
    "    time = dict(weatherElement['time'][0])['dataTime']\n",
    "    value = dict(dict(weatherElement['time'][0])['elementValue'])['value']\n",
    "    print(name, time, value)\n",
    "    #break"
   ]
  },
  {
   "cell_type": "code",
   "execution_count": 4,
   "metadata": {},
   "outputs": [
    {
     "name": "stdout",
     "output_type": "stream",
     "text": [
      "鹽埕區 2019-12-01T12:00:00+08:00 27\n",
      "鹽埕區 2019-12-01T15:00:00+08:00 27\n",
      "鹽埕區 2019-12-01T18:00:00+08:00 25\n",
      "鹽埕區 2019-12-01T21:00:00+08:00 22\n",
      "鹽埕區 2019-12-02T00:00:00+08:00 20\n",
      "鹽埕區 2019-12-02T03:00:00+08:00 19\n",
      "鹽埕區 2019-12-02T06:00:00+08:00 18\n",
      "鹽埕區 2019-12-02T09:00:00+08:00 20\n",
      "鹽埕區 2019-12-02T12:00:00+08:00 25\n",
      "鹽埕區 2019-12-02T15:00:00+08:00 25\n",
      "鹽埕區 2019-12-02T18:00:00+08:00 23\n",
      "鹽埕區 2019-12-02T21:00:00+08:00 20\n",
      "鹽埕區 2019-12-03T00:00:00+08:00 18\n",
      "鹽埕區 2019-12-03T03:00:00+08:00 17\n",
      "鹽埕區 2019-12-03T06:00:00+08:00 16\n",
      "鹽埕區 2019-12-03T09:00:00+08:00 18\n",
      "鹽埕區 2019-12-03T12:00:00+08:00 22\n",
      "鹽埕區 2019-12-03T15:00:00+08:00 23\n",
      "鹽埕區 2019-12-03T18:00:00+08:00 22\n",
      "鹽埕區 2019-12-03T21:00:00+08:00 20\n",
      "鹽埕區 2019-12-04T00:00:00+08:00 19\n",
      "鹽埕區 2019-12-04T03:00:00+08:00 18\n",
      "鹽埕區 2019-12-04T06:00:00+08:00 18\n",
      "鹽埕區 2019-12-04T09:00:00+08:00 19\n"
     ]
    }
   ],
   "source": [
    "# 3. 請取出第一個地區所記錄的每一個時間點跟溫度\n",
    "\n",
    "'''\n",
    "Your Code\n",
    "'''\n",
    "for loc in d['cwbopendata']['dataset']['locations']['location'][:1]:\n",
    "    name = dict(loc)['locationName']\n",
    "    weatherElement = dict(dict(loc)['weatherElement'][0])\n",
    "    for we in weatherElement['time']:\n",
    "        time, elementValue = dict(we)['dataTime'], dict(we)['elementValue']\n",
    "        print(name, time, dict(elementValue)['value'])"
   ]
  }
 ],
 "metadata": {
  "kernelspec": {
   "display_name": "PCM",
   "language": "python",
   "name": "pcm"
  },
  "language_info": {
   "codemirror_mode": {
    "name": "ipython",
    "version": 3
   },
   "file_extension": ".py",
   "mimetype": "text/x-python",
   "name": "python",
   "nbconvert_exporter": "python",
   "pygments_lexer": "ipython3",
   "version": "3.7.5"
  }
 },
 "nbformat": 4,
 "nbformat_minor": 4
}
