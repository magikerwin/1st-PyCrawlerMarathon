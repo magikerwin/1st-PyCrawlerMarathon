{
 "cells": [
  {
   "cell_type": "markdown",
   "metadata": {},
   "source": [
    "# API 資料串接 - 以 Dcard API 實作範例\n",
    "\n",
    "* 利用 urllib 套件的 urlretrieve 方法下載檔案\n",
    "* 了解 Python File I/O 讀檔、寫檔的用法\n",
    "* 能用運用資源管理器 With Statement 優化寫法"
   ]
  },
  {
   "cell_type": "markdown",
   "metadata": {},
   "source": [
    "## 作業目標\n",
    "\n",
    "* 請利用 API: https://www.dcard.tw/_api/forums/pet/posts?popular=true 回答下列問題：\n",
    "\n",
    "1. 這個 API 一次會回傳幾筆資料？每一筆資料包含哪些欄位？\n",
    "2. 取出每一筆資料的「標題」、「貼文時間」、「留言人數」、「按讚人數」\n",
    "3. 計算熱門/非熱門文章的「平均留言人數」與「平均按讚人數」"
   ]
  },
  {
   "cell_type": "code",
   "execution_count": 1,
   "metadata": {},
   "outputs": [
    {
     "name": "stdout",
     "output_type": "stream",
     "text": [
      "API一次回傳30筆資料\n",
      "\n",
      "每筆包含欄位: ['id', 'title', 'excerpt', 'anonymousSchool', 'anonymousDepartment', 'pinned', 'forumId', 'replyId', 'createdAt', 'updatedAt', 'commentCount', 'likeCount', 'withNickname', 'tags', 'topics', 'meta', 'forumName', 'forumAlias', 'gender', 'school', 'department', 'replyTitle', 'mediaMeta', 'reactions', 'hidden', 'customStyle', 'isSuspiciousAccount', 'layout', 'withImages', 'withVideos', 'media', 'reportReasonText', 'postAvatar']\n"
     ]
    }
   ],
   "source": [
    "# 1. 這個 API 一次會回傳幾筆資料？每一筆資料包含哪些欄位？\n",
    "\n",
    "'''\n",
    "Your Code\n",
    "'''\n",
    "import requests\n",
    "import json\n",
    "\n",
    "r = requests.get(('https://www.dcard.tw/_api/forums/pet/posts?popular=true'))\n",
    "response = r.text\n",
    "data = json.loads(response)\n",
    "\n",
    "print(f\"API一次回傳{len(data)}筆資料\\n\")\n",
    "print(\"每筆包含欄位:\", list(data[0].keys()))"
   ]
  },
  {
   "cell_type": "code",
   "execution_count": 2,
   "metadata": {},
   "outputs": [
    {
     "name": "stdout",
     "output_type": "stream",
     "text": [
      "標題: 我家的貓每天睡覺前一定會做的事\n",
      "創建時間: 2019-11-30T06:52:29.882Z\n",
      "留言人數: 140\n",
      "按讚人數: 4741\n",
      "\n",
      "標題: 被擠床原來是一件幸福的事\n",
      "創建時間: 2019-11-30T04:15:42.699Z\n",
      "留言人數: 24\n",
      "按讚人數: 1799\n",
      "\n",
      "標題: #哈士奇 滿一歲啦 文長 滿滿的二哈\n",
      "創建時間: 2019-11-30T16:30:51.154Z\n",
      "留言人數: 26\n",
      "按讚人數: 1015\n",
      "\n",
      "標題: 媽 晚餐好了沒\n",
      "創建時間: 2019-11-30T10:42:58.582Z\n",
      "留言人數: 6\n",
      "按讚人數: 726\n",
      "\n",
      "標題: 有人要吸兔嗎？\n",
      "創建時間: 2019-11-30T04:58:10.195Z\n",
      "留言人數: 42\n",
      "按讚人數: 330\n",
      "\n",
      "標題: 你到底是貓還是狗？\n",
      "創建時間: 2019-11-30T14:32:06.500Z\n",
      "留言人數: 11\n",
      "按讚人數: 83\n",
      "\n",
      "標題: 原來柴犬可以那麽可愛🐕\n",
      "創建時間: 2019-11-30T17:17:51.628Z\n",
      "留言人數: 2\n",
      "按讚人數: 82\n",
      "\n",
      "標題: 好像買太小了...\n",
      "創建時間: 2019-12-01T08:27:28.504Z\n",
      "留言人數: 5\n",
      "按讚人數: 68\n",
      "\n",
      "標題: 我養的是工讀生？🤔\n",
      "創建時間: 2019-12-01T02:07:09.729Z\n",
      "留言人數: 6\n",
      "按讚人數: 60\n",
      "\n",
      "標題: 白圍巾白手套橘貓❤️\n",
      "創建時間: 2019-11-30T07:44:14.420Z\n",
      "留言人數: 6\n",
      "按讚人數: 55\n",
      "\n",
      "標題: 四個月的布偶屁貓\n",
      "創建時間: 2019-11-30T11:24:26.047Z\n",
      "留言人數: 2\n",
      "按讚人數: 50\n",
      "\n",
      "標題: 從沒想過山竹可以這麼可口ฅ\n",
      "創建時間: 2019-11-30T10:24:08.529Z\n",
      "留言人數: 6\n",
      "按讚人數: 35\n",
      "\n",
      "標題: 如果當初這樣做 或許結局就能不同了吧\n",
      "創建時間: 2019-12-01T00:49:18.221Z\n",
      "留言人數: 0\n",
      "按讚人數: 28\n",
      "\n",
      "標題: 我不是貓 我是兔子\n",
      "創建時間: 2019-11-30T11:16:53.115Z\n",
      "留言人數: 1\n",
      "按讚人數: 27\n",
      "\n",
      "標題: 自嗨小橘貓\n",
      "創建時間: 2019-11-30T20:21:16.782Z\n",
      "留言人數: 1\n",
      "按讚人數: 24\n",
      "\n",
      "標題: 你一定要這樣厭世嗎\n",
      "創建時間: 2019-11-30T13:05:07.439Z\n",
      "留言人數: 1\n",
      "按讚人數: 24\n",
      "\n",
      "標題: 小寶貝\n",
      "創建時間: 2019-11-30T16:01:13.979Z\n",
      "留言人數: 0\n",
      "按讚人數: 23\n",
      "\n",
      "標題: #貓咪 十隻白貓九隻胖\n",
      "創建時間: 2019-11-30T15:24:46.075Z\n",
      "留言人數: 6\n",
      "按讚人數: 22\n",
      "\n",
      "標題: 就算之後天天吃泡麵也要救活妳\n",
      "創建時間: 2019-11-30T11:59:28.473Z\n",
      "留言人數: 0\n",
      "按讚人數: 22\n",
      "\n",
      "標題: #貓 #影 #圖 不只慢半拍ㄉ音癡（？\n",
      "創建時間: 2019-11-30T08:14:35.514Z\n",
      "留言人數: 3\n",
      "按讚人數: 21\n",
      "\n",
      "標題: 我家阿咪的特技\n",
      "創建時間: 2019-11-30T18:43:59.640Z\n",
      "留言人數: 4\n",
      "按讚人數: 18\n",
      "\n",
      "標題: 我家貓咪真可愛♥️♥️\n",
      "創建時間: 2019-11-30T06:31:53.631Z\n",
      "留言人數: 6\n",
      "按讚人數: 14\n",
      "\n",
      "標題: 請問⋯妳是在哈囉？\n",
      "創建時間: 2019-11-30T19:16:39.494Z\n",
      "留言人數: 2\n",
      "按讚人數: 13\n",
      "\n",
      "標題: 急尋愛貓一隻🙏🙏\n",
      "創建時間: 2019-11-30T13:31:14.399Z\n",
      "留言人數: 2\n",
      "按讚人數: 13\n",
      "\n",
      "標題: 貓咪沒在尊重男友\n",
      "創建時間: 2019-12-01T10:44:13.896Z\n",
      "留言人數: 3\n",
      "按讚人數: 12\n",
      "\n",
      "標題: 一隻會傳球的貓\n",
      "創建時間: 2019-11-30T18:36:38.485Z\n",
      "留言人數: 0\n",
      "按讚人數: 11\n",
      "\n",
      "標題: 寵物過世碰到的外套\n",
      "創建時間: 2019-12-01T09:23:54.879Z\n",
      "留言人數: 3\n",
      "按讚人數: 10\n",
      "\n",
      "標題: #圖多 可愛喵喵們(⁎⁍̴̛ᴗ⁍̴̛⁎)\n",
      "創建時間: 2019-12-01T08:44:25.791Z\n",
      "留言人數: 1\n",
      "按讚人數: 10\n",
      "\n",
      "標題: 虎爺公的細漢欸（小弟）\n",
      "創建時間: 2019-11-30T19:16:31.808Z\n",
      "留言人數: 0\n",
      "按讚人數: 10\n",
      "\n",
      "標題: 兔兔的睡姿⋯⋯\n",
      "創建時間: 2019-12-01T09:01:55.400Z\n",
      "留言人數: 1\n",
      "按讚人數: 9\n",
      "\n"
     ]
    }
   ],
   "source": [
    "# 2. 取出每一筆資料的「標題」、「貼文時間」、「留言人數」、「按讚人數」\n",
    "\n",
    "'''\n",
    "Your Code\n",
    "'''\n",
    "for d in data:\n",
    "    print(\"標題:\", d['title'])\n",
    "    print(\"創建時間:\", d['createdAt'])\n",
    "    print(\"留言人數:\", d['commentCount'])\n",
    "    print(\"按讚人數:\", d['likeCount'])\n",
    "    print(\"\")\n",
    "    #break"
   ]
  },
  {
   "cell_type": "code",
   "execution_count": 3,
   "metadata": {},
   "outputs": [
    {
     "data": {
      "text/plain": [
       "'\\nYour Code\\n'"
      ]
     },
     "execution_count": 3,
     "metadata": {},
     "output_type": "execute_result"
    }
   ],
   "source": [
    "# 3. 計算熱門/非熱門文章的「平均留言人數」與「平均按讚人數」\n",
    "\n",
    "'''\n",
    "Your Code\n",
    "'''"
   ]
  },
  {
   "cell_type": "code",
   "execution_count": 4,
   "metadata": {},
   "outputs": [],
   "source": [
    "r = requests.get(('https://www.dcard.tw/_api/forums/pet/posts?popular=true'))\n",
    "response = r.text\n",
    "data_t = json.loads(response)\n",
    "\n",
    "r = requests.get(('https://www.dcard.tw/_api/forums/pet/posts?popular=false'))\n",
    "response = r.text\n",
    "data_f = json.loads(response)\n",
    "\n",
    "num_data_t = len(data_t)\n",
    "commentCount_t = 0\n",
    "likeCount_t    = 0\n",
    "for d in data_t:\n",
    "    commentCount_t += d['commentCount']\n",
    "    likeCount_t    += d['likeCount']\n",
    "\n",
    "num_data_f = len(data_f)\n",
    "commentCount_f = 0\n",
    "likeCount_f    = 0\n",
    "for d in data_f:\n",
    "    commentCount_f += d['commentCount']\n",
    "    likeCount_f    += d['likeCount']"
   ]
  },
  {
   "cell_type": "code",
   "execution_count": 5,
   "metadata": {},
   "outputs": [
    {
     "name": "stdout",
     "output_type": "stream",
     "text": [
      "熱門\n",
      "平均留言人數: 10.333333333333334\n",
      "平均按讚人數: 311.8333333333333\n",
      "\n",
      "非熱門\n",
      "平均留言人數: 1.6333333333333333\n",
      "平均按讚人數: 5.9\n"
     ]
    }
   ],
   "source": [
    "print(\"熱門\")\n",
    "print(\"平均留言人數:\", commentCount_t / num_data_t)\n",
    "print(\"平均按讚人數:\", likeCount_t / num_data_t)\n",
    "\n",
    "print(\"\\n非熱門\")\n",
    "print(\"平均留言人數:\", commentCount_f / num_data_f)\n",
    "print(\"平均按讚人數:\", likeCount_f / num_data_f)"
   ]
  },
  {
   "cell_type": "code",
   "execution_count": null,
   "metadata": {},
   "outputs": [],
   "source": []
  }
 ],
 "metadata": {
  "kernelspec": {
   "display_name": "Python 3",
   "language": "python",
   "name": "python3"
  },
  "language_info": {
   "codemirror_mode": {
    "name": "ipython",
    "version": 3
   },
   "file_extension": ".py",
   "mimetype": "text/x-python",
   "name": "python",
   "nbconvert_exporter": "python",
   "pygments_lexer": "ipython3",
   "version": "3.7.1"
  }
 },
 "nbformat": 4,
 "nbformat_minor": 4
}
