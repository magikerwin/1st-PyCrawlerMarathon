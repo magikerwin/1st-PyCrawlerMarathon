{
 "cells": [
  {
   "cell_type": "markdown",
   "metadata": {},
   "source": [
    "# API 資料串接 - 以 Dcard API 實作範例\n",
    "\n",
    "\n",
    "* 了解 Dcard API 使用方式與回傳內容\n",
    "* 撰寫程式存取 API 且解析 JSON 格式資料\n",
    "\n",
    "\n",
    "\n"
   ]
  },
  {
   "cell_type": "markdown",
   "metadata": {},
   "source": [
    "## 下載檔案"
   ]
  },
  {
   "cell_type": "code",
   "execution_count": 1,
   "metadata": {},
   "outputs": [
    {
     "data": {
      "text/plain": [
       "'[{\"id\":225578807,\"title\":\"<請先點我> 工作板＆實習、打工職缺刊登說明\",\"excerpt\":\"工作板主要供分享職場工作心得、面試、正職、招考過程分享、各類型工作內容介紹、勞工工作權益與相關法案議題討論相關文章。文章發文後請加上話題，如：經驗分享、職業介紹、勞工權益、徵才等....，「實習職缺/刊登」請點：\",\"anonymousSchool\":false,\"anonymousDepartment\":true,\"pinned\":true,\"forumId\":\"6eeeafb2-9dac-4d81-ae4b-ffecf0ad4444\",\"replyId\":null,\"createdAt\":\"2017-01-01T06:27:39.650Z\",\"updatedAt\":\"2018-07-27T00:18:35.980Z\",\"commentCount\":34,\"likeCount\":659,\"withNickname\":true,\"tags\":[],\"topics\":[\"工作板\",\"Dcard公告\",\"實習職缺\",\"打工職缺\"],\"meta\":{},\"forumName\":\"工作\",\"forumAlias\":\"job\",\"gender\":\"D\",\"school\":\"客服小天使\",\"department\":\"dcard_support_2\",\"replyTitle\":null,\"mediaMeta\":[],\"reactions\":[{\"id\":\"286f599c-f86a-4932-82f0-f5a06f1eca03\",\"count\":657},{\"id\":\"aa0d425f-d530-4478-9a77-fe3aedc79eea\",\"count\":1},{\"id\":\"e8e6bc5d-41b0-4129-b134-97507523d7ff\",\"count\":1}],\"hidden\":false,\"customStyle\":null,\"isSuspiciousAccount\":false,\"layout\":\"classic\",\"withImages\":false,\"withVideos\":false,\"media\":[],\"reportReasonText\":\"\",\"postAvatar\":\"\"},{\"id\":232600977,\"title\":\"長輩問工作薪水\",\"excerpt\":\"開始工作後，每次參加家庭聚會，長輩們總是會再一次問我領多少薪水，第一次被問薪水，我很尷尬的直說了薪水，但因為薪水不高，結果被討論了一翻，雖然媽媽也在場，但媽媽覺得這是親戚們對我好的關心，第二次被問薪水\",\"anonymousSchool\":true,\"anonymousDepartment\":true,\"pinned\":false,\"forumId\":\"6eeeafb2-9dac-4d81-ae4b-ffecf0ad4444\",\"replyId\":null,\"createdAt\":\"2019-11-30T13:32:51.627Z\",\"updatedAt\":\"2019-11-30T13:32:51.627Z\",\"commentCount\":35,\"likeCount\":44,\"withNickname\":false,\"tags\":[],\"topics\":[\"薪水\",\"長輩\",\"工作\"],\"meta\":{\"layout\":\"classic\"},\"forumName\":\"工作\",\"forumAlias\":\"job\",\"gender\":\"F\",\"replyTitle\":null,\"mediaMeta\":[],\"reactions\":[{\"id\":\"286f599c-f86a-4932-82f0-f5a06f1eca03\",\"count\":44}],\"hidden\":false,\"customStyle\":null,\"isSuspiciousAccount\":false,\"layout\":\"classic\",\"withImages\":false,\"withVideos\":false,\"media\":[],\"reportReasonText\":\"\",\"postAvatar\":\"\"},{\"id\":232600333,\"title\":\"黑特 桃園復興路橋下婚紗店\",\"excerpt\":\"桃園一家黑店，根本是婚紗界的魏應充，無良到了極點，除了禮服沒在洗，相框產品廉價到會自行解體這種小事以外，網路上（包含fb， google， 結婚吧等平台）所有的好評價，全~部~都是編出來的，我上班第二\",\"anonymousSchool\":true,\"anonymousDepartment\":true,\"pinned\":false,\"forumId\":\"6ee'"
      ]
     },
     "execution_count": 1,
     "metadata": {},
     "output_type": "execute_result"
    }
   ],
   "source": [
    "import requests\n",
    "r = requests.get(('https://www.dcard.tw/_api/forums/job/posts?popular=true'))\n",
    "response = r.text\n",
    "\n",
    "response[:2000]"
   ]
  },
  {
   "cell_type": "code",
   "execution_count": 2,
   "metadata": {},
   "outputs": [
    {
     "name": "stdout",
     "output_type": "stream",
     "text": [
      "<請先點我> 工作板＆實習、打工職缺刊登說明\n",
      "長輩問工作薪水\n",
      "黑特 桃園復興路橋下婚紗店\n",
      "大家覺得這薪資待遇如何🙏🏻\n",
      "三個禮拜沒工作很過分嗎？\n",
      "愛吃醋又愛巴結主管的同事\n",
      "職場性騷擾的定義\n",
      "#求助# 外科系想走進美術業界該做甚麼準備？\n",
      "覺得自己很廢\n",
      "菜鳥的憂鬱\n",
      "低薪怎麼辦?\n",
      "不覺得很可悲嗎\n",
      "第一份工作是這樣的工作\n",
      "找到工作又覺得自己沒長進\n",
      "澳洲打工渡假\n",
      "是我自己的問題？\n",
      "跳槽薪水問題\n",
      "景碩科技\n",
      "離職證明公司規模？\n",
      "前輩不大理人 好想離職\n",
      "安親班打工\n",
      "2019高鐵站務員面試\n",
      "請益應該提離職或是先反應？（文長）\n",
      "隆美窗簾\n",
      "工作不到1個月離職被告知要7天後才能\n",
      "寒假打工\n",
      "大仁街九湯屋~徵人～\n",
      "悲慘的工作\n",
      "世界先進新竹廠\n",
      "轉換跑道⋯\n"
     ]
    }
   ],
   "source": [
    "import json\n",
    "data = json.loads(response)\n",
    "\n",
    "for d in data:\n",
    "    print(d['title'])\n"
   ]
  },
  {
   "cell_type": "markdown",
   "metadata": {},
   "source": [
    "## 作業目標\n",
    "\n",
    "* 請利用 API: https://www.dcard.tw/_api/forums/pet/posts?popular=true 回答下列問題：\n",
    "\n",
    "    1. 這個 API 一次會回傳幾筆資料？每一筆資料包含哪些欄位？\n",
    "    2. 取出每一筆資料的「標題」、「貼文時間」、「留言人數」、「按讚人數」\n",
    "    3. 計算熱門/非熱門文章的「平均留言人數」與「平均按讚人數」\n",
    "\n",
    "\n",
    "\n"
   ]
  },
  {
   "cell_type": "code",
   "execution_count": null,
   "metadata": {},
   "outputs": [],
   "source": []
  }
 ],
 "metadata": {
  "kernelspec": {
   "display_name": "PCM",
   "language": "python",
   "name": "pcm"
  },
  "language_info": {
   "codemirror_mode": {
    "name": "ipython",
    "version": 3
   },
   "file_extension": ".py",
   "mimetype": "text/x-python",
   "name": "python",
   "nbconvert_exporter": "python",
   "pygments_lexer": "ipython3",
   "version": "3.7.5"
  }
 },
 "nbformat": 4,
 "nbformat_minor": 4
}
