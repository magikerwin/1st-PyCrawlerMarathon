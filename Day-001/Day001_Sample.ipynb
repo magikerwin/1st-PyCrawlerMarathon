{
 "cells": [
  {
   "cell_type": "markdown",
   "metadata": {},
   "source": [
    "# 資料來源與檔案存取\n",
    "\n",
    "* 資料來源與取得\n",
    "* 開放資料\n",
    "* 資料儲存格式\n",
    "* Python 存取檔案"
   ]
  },
  {
   "cell_type": "markdown",
   "metadata": {},
   "source": [
    "## 利用 Python 下載檔案"
   ]
  },
  {
   "cell_type": "code",
   "execution_count": 1,
   "metadata": {},
   "outputs": [
    {
     "data": {
      "text/plain": [
       "('./data/2.txt', <http.client.HTTPMessage at 0x1293c1f3508>)"
      ]
     },
     "execution_count": 1,
     "metadata": {},
     "output_type": "execute_result"
    }
   ],
   "source": [
    "from urllib.request import urlretrieve\n",
    "\n",
    "urlretrieve (\"https://www.w3.org/TR/PNG/iso_8859-1.txt\", \"./1.txt\")\n",
    "urlretrieve (\"https://www.w3.org/TR/PNG/iso_8859-1.txt\", \"./data/2.txt\")\n"
   ]
  },
  {
   "cell_type": "code",
   "execution_count": 2,
   "metadata": {},
   "outputs": [
    {
     "name": "stdout",
     "output_type": "stream",
     "text": [
      ".ipynb_checkpoints\n",
      "1.txt\n",
      "data\n",
      "Day001_HW.ipynb\n",
      "Day001_Sample.ipynb\n",
      "example-with.txt\n",
      "example.txt\n",
      "example1.txt\n",
      "example2.txt\n"
     ]
    }
   ],
   "source": [
    "import os, sys\n",
    "\n",
    "# 打開文件（預設位置會是跟 .ipynb 程式相同的目錄）\n",
    "dirs = os.listdir( './' )\n",
    "\n",
    "# 顯示所有文件\n",
    "for file in dirs:\n",
    "    print(file)"
   ]
  },
  {
   "cell_type": "markdown",
   "metadata": {},
   "source": [
    "## 利用 Python 存取檔案"
   ]
  },
  {
   "cell_type": "code",
   "execution_count": 3,
   "metadata": {},
   "outputs": [
    {
     "name": "stdout",
     "output_type": "stream",
     "text": [
      "47\n"
     ]
    }
   ],
   "source": [
    "fh = open(\"example.txt\", \"w\")\n",
    "f = fh.write(\"To write or not to write\\nthat is the question!\\n\")\n",
    "fh.close()\n",
    "\n",
    "print(f)"
   ]
  },
  {
   "cell_type": "code",
   "execution_count": 4,
   "metadata": {},
   "outputs": [
    {
     "name": "stdout",
     "output_type": "stream",
     "text": [
      "To write or not to write\n",
      "that is the question!\n",
      "\n"
     ]
    }
   ],
   "source": [
    "fh = open(\"example.txt\", \"r\")\n",
    "f = fh.read()\n",
    "fh.close()\n",
    "\n",
    "print(f)"
   ]
  },
  {
   "cell_type": "code",
   "execution_count": 5,
   "metadata": {},
   "outputs": [
    {
     "name": "stdout",
     "output_type": "stream",
     "text": [
      "47\n",
      "To write or not to write\n",
      "that is the question!\n",
      "\n"
     ]
    }
   ],
   "source": [
    "with open(\"example-with.txt\", \"w\") as fh:\n",
    "    f = fh.write(\"To write or not to write\\nthat is the question!\\n\")\n",
    "    print(f)\n",
    "    \n",
    "with open(\"example-with.txt\", \"r\") as fh:\n",
    "    f = fh.read()\n",
    "    print(f)"
   ]
  },
  {
   "cell_type": "code",
   "execution_count": 6,
   "metadata": {},
   "outputs": [
    {
     "name": "stdout",
     "output_type": "stream",
     "text": [
      ".ipynb_checkpoints\n",
      "1.txt\n",
      "data\n",
      "Day001_HW.ipynb\n",
      "Day001_Sample.ipynb\n",
      "example-with.txt\n",
      "example.txt\n",
      "example1.txt\n",
      "example2.txt\n"
     ]
    }
   ],
   "source": [
    "import os, sys\n",
    "\n",
    "# 打開文件\n",
    "dirs = os.listdir( './' )\n",
    "\n",
    "# 顯示所有文件\n",
    "for file in dirs:\n",
    "    print(file)"
   ]
  },
  {
   "cell_type": "markdown",
   "metadata": {},
   "source": [
    "## 編碼判讀"
   ]
  },
  {
   "cell_type": "code",
   "execution_count": 7,
   "metadata": {},
   "outputs": [
    {
     "name": "stdout",
     "output_type": "stream",
     "text": [
      "{'encoding': 'ascii', 'confidence': 1.0, 'language': ''}\n"
     ]
    }
   ],
   "source": [
    "import chardet\n",
    "\n",
    "f = open('example1.txt', 'rb')\n",
    "data = f.read()\n",
    "print(chardet.detect(data))"
   ]
  },
  {
   "cell_type": "code",
   "execution_count": 8,
   "metadata": {},
   "outputs": [
    {
     "name": "stdout",
     "output_type": "stream",
     "text": [
      "{'encoding': 'utf-8', 'confidence': 0.938125, 'language': ''}\n"
     ]
    }
   ],
   "source": [
    "import chardet\n",
    " \n",
    "f = open('example2.txt', 'rb')\n",
    "data = f.read()\n",
    "print(chardet.detect(data))"
   ]
  },
  {
   "cell_type": "markdown",
   "metadata": {},
   "source": [
    "## 作業目標\n",
    "\n",
    "* 1.（簡答題）檔案、API、爬蟲三種取得資料方式有什麼不同？\n",
    "* 2.（實作）完成一個程式，需滿足下列需求：\n",
    "    * 下載指定檔案到 Data 資料夾，存成檔名 Homework.txt\n",
    "    * 檢查 Data 資料夾是否有 Homework.txt 檔名之檔案\n",
    "    * 將「Hello World」字串覆寫到 Homework.txt 檔案\n",
    "    * 檢查 Homework.txt 檔案字數是否符合 Hello World 字數\n"
   ]
  },
  {
   "cell_type": "code",
   "execution_count": null,
   "metadata": {},
   "outputs": [],
   "source": []
  },
  {
   "cell_type": "code",
   "execution_count": null,
   "metadata": {},
   "outputs": [],
   "source": []
  }
 ],
 "metadata": {
  "kernelspec": {
   "display_name": "PCM",
   "language": "python",
   "name": "pcm"
  },
  "language_info": {
   "codemirror_mode": {
    "name": "ipython",
    "version": 3
   },
   "file_extension": ".py",
   "mimetype": "text/x-python",
   "name": "python",
   "nbconvert_exporter": "python",
   "pygments_lexer": "ipython3",
   "version": "3.7.5"
  }
 },
 "nbformat": 4,
 "nbformat_minor": 4
}
