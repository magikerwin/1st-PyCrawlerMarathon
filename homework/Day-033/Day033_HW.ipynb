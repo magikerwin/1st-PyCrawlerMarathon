{
 "cells": [
  {
   "cell_type": "markdown",
   "metadata": {},
   "source": [
    "# 反爬：登入授權模擬\n",
    "\n",
    "* 了解「登入權限機制」的反爬蟲機制\n",
    "* 「登入權限機制」反爬蟲的因應策略"
   ]
  },
  {
   "cell_type": "markdown",
   "metadata": {},
   "source": [
    "## 作業目標\n",
    "\n",
    "* 找一個需要登入的網站試試看，並說明思考流程\n",
    "（如果不知道要用哪個網站的話，可以試試看 https://github.com/new 網址，未登入時會被導向登入頁）\n",
    "\n"
   ]
  },
  {
   "cell_type": "code",
   "execution_count": null,
   "metadata": {},
   "outputs": [],
   "source": [
    "'''\n",
    "Your Code\n",
    "'''"
   ]
  },
  {
   "cell_type": "code",
   "execution_count": 1,
   "metadata": {},
   "outputs": [],
   "source": [
    "from lxml import html\n",
    "import requests\n",
    "from bs4 import BeautifulSoup\n",
    "\n",
    "requests.packages.urllib3.disable_warnings()"
   ]
  },
  {
   "cell_type": "code",
   "execution_count": 2,
   "metadata": {},
   "outputs": [],
   "source": [
    "#This URL will be the URL that your login form points to with the \"action\" tag.\n",
    "URL_POST_LOGIN = 'https://github.com/login'\n",
    "#This URL is the page you actually want to pull down with requests.\n",
    "URL_REQUEST = 'https://github.com/new'"
   ]
  },
  {
   "cell_type": "markdown",
   "metadata": {},
   "source": [
    "## 未授權前存取"
   ]
  },
  {
   "cell_type": "code",
   "execution_count": 3,
   "metadata": {},
   "outputs": [
    {
     "data": {
      "text/plain": [
       "15365"
      ]
     },
     "execution_count": 3,
     "metadata": {},
     "output_type": "execute_result"
    }
   ],
   "source": [
    "res = requests.get('https://github.com/new', verify=False)\n",
    "len(res.text)"
   ]
  },
  {
   "cell_type": "markdown",
   "metadata": {},
   "source": [
    "## 模仿授權機制"
   ]
  },
  {
   "cell_type": "markdown",
   "metadata": {},
   "source": [
    "### 方法一：先送登入，再送請求"
   ]
  },
  {
   "cell_type": "code",
   "execution_count": null,
   "metadata": {},
   "outputs": [],
   "source": [
    "with requests.Session() as sess:\n",
    "    ##\n",
    "    r = sess.get(URL_REQUEST)\n",
    "    tree = html.fromstring(r.text)\n",
    "    authenticity_token = tree.xpath(\"//input[@name='authenticity_token']/@value\")[0]\n",
    "    timestamp = tree.xpath(\"//input[@name='timestamp']/@value\")[0]\n",
    "    timestamp_secret = tree.xpath(\"//input[@name='timestamp_secret']/@value\")[0]\n",
    "    \n",
    "    \n",
    "    # login information\n",
    "    payload = {\n",
    "        'authenticity_token': authenticity_token,\n",
    "        'login': \"YOUR EMAIL OR USENAME\", # <------------------------------ [!]\n",
    "        'password': \"YOUR PASSWORD\", # <----------------------------------- [!]\n",
    "        \"timestamp\": timestamp,\n",
    "        \"timestamp_secret\": timestamp_secret,\n",
    "        'commit': 'Sign in',\n",
    "    }\n",
    "    \n",
    "    ##\n",
    "    post = sess.post(URL_POST_LOGIN, data=payload)\n",
    "    r = sess.get(URL_REQUEST)\n",
    "    #print(r.text)\n",
    "    print(len(r.text))"
   ]
  },
  {
   "cell_type": "markdown",
   "metadata": {},
   "source": [
    "### 方法二：在請求中帶入 cookie"
   ]
  },
  {
   "cell_type": "code",
   "execution_count": 4,
   "metadata": {},
   "outputs": [
    {
     "data": {
      "text/plain": [
       "140582"
      ]
     },
     "execution_count": 4,
     "metadata": {},
     "output_type": "execute_result"
    }
   ],
   "source": [
    "cookies = {'user_session': 'YSx17YxKc2EEmpsQKNHzCPzqfffcGxBMWFsPub5M7nfVXJLS'}\n",
    "res = requests.get('https://github.com/new', verify=False, cookies=cookies)\n",
    "len(res.text)"
   ]
  },
  {
   "cell_type": "code",
   "execution_count": 5,
   "metadata": {},
   "outputs": [
    {
     "data": {
      "text/plain": [
       "<title>Create a New Repository</title>"
      ]
     },
     "execution_count": 5,
     "metadata": {},
     "output_type": "execute_result"
    }
   ],
   "source": [
    "soup = BeautifulSoup(res.text,'html.parser')\n",
    "soup.title"
   ]
  },
  {
   "cell_type": "code",
   "execution_count": null,
   "metadata": {},
   "outputs": [],
   "source": []
  }
 ],
 "metadata": {
  "kernelspec": {
   "display_name": "PCM",
   "language": "python",
   "name": "pcm"
  },
  "language_info": {
   "codemirror_mode": {
    "name": "ipython",
    "version": 3
   },
   "file_extension": ".py",
   "mimetype": "text/x-python",
   "name": "python",
   "nbconvert_exporter": "python",
   "pygments_lexer": "ipython3",
   "version": "3.7.5"
  }
 },
 "nbformat": 4,
 "nbformat_minor": 4
}
