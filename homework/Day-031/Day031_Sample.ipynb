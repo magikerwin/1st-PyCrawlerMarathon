{
 "cells": [
  {
   "cell_type": "markdown",
   "metadata": {},
   "source": [
    "# 反爬：瀏覽器標頭與基本資訊\n",
    "\n",
    "\n",
    "* 了解「檢查 HTTP 標頭檔」的反爬蟲機制\n",
    "* 「檢查 HTTP 標頭檔」反爬蟲的因應策略\n"
   ]
  },
  {
   "cell_type": "markdown",
   "metadata": {},
   "source": [
    "## 沒有加 Header 的情況"
   ]
  },
  {
   "cell_type": "code",
   "execution_count": 5,
   "metadata": {},
   "outputs": [
    {
     "data": {
      "text/plain": [
       "'<!DOCTYPE html><html style=\"height:100%;width:100%\"><head><meta http-equiv=\"Content-Type\" content=\"text/html; charset=utf-8\" /><meta http-equiv=\"Server\" content=\"CloudWAF\" /><title id=\"title\">è®¿é\\x97®è¢«æ\\x8b¦æ\\x88ªï¼\\x81</title><script>function bindall() {var requestid = \"30-30-14-20200129151631-3ddb5728\";if(requestid==null || requestid == \"\"){return;}document.getElementById(\"d\").innerText = requestid;}</script></head><body onload=\"bindall()\" style=\"height:100%;width:100%;margin:0px;font-family:Microsoft yahei\"><div><style type=\"text/css\">\\t.button{float:right;margin-right:2rem;text-decoration:none;background:white;color:#e94d4c;padding: 5px 15px 5px 15px;font-size:1rem;font-family: å¾®è½¯é\\x9b\\x85é»\\x91,å®\\x8bä½\\x93,Arial,Helvetica,Verdana,sans-serif;font-weight:bold;border-radius:0rem;border: none;-webkit-transition:all linear 0.30s;-moz-transition:all linear 0.30s;}.button:hover{text-decoration:none;background:#e94d4c;color:#f2f2f2;}</style><input type=\"button\" class=\"button\" onclick=\"changeLanguageZh()\" value=\"ä¸\\xadæ\\x96\\x87\"/><input type=\"button\" class=\"button\"  onclick=\"changeLanguageEn()\" value=\"English\"/></div><div style=\"min-height:13.125rem;height:17%;width:100%\"><div style=\"margin-top:3.75rem;margin-left:18.4375rem;height:52.38;width:83.04%;\"><svg xmlns=\"http://www.w3.org/2000/svg\" style=\"width: 3.125rem;height: 3.125rem\" viewBox=\"0 0 50 50\"><path fill=\"#e84e4c\" d=\"M25,0A25,25,0,1,0,50,25,25,25,0,0,0,25,0Zm1.6,37.16H22.85V33.41H26.6Zm0-6.63H22.85L22.35,13H27.1Z\"/></svg><font style=\"font-family:MicrosoftYaHei;font-size:4.375rem;color:#e94d4c;margin-left: 0.75rem;font-weight: bold;\">418</font></div><div style=\"margin-left:18.4375rem;height:47.62%;width:83.04%;\"><font id=\"a\" style=\"font-family:MicrosoftYaHei;font-size:1.875rem;color:#999999;word-wrap:break-word;\">æ\\x82¨ç\\x9a\\x84è¯·æ±\\x82ç\\x96\\x91ä¼¼æ\\x94»å\\x87»è¡\\x8cä¸ºï¼\\x81</font><p style=\"font-family:MicrosoftYaHei;font-size:0.9rem;color:#999999;word-wrap:break-word;\"><span id=\"c\">äº\\x8bä»¶IDï¼\\x9a</span><span style=\"color:#499df2\" id=\"d\">False alarm ID</p></div></div><div style=\"height:15.625rem;width:100%;min-width:105rem;\"><div style=\"margin-left:18.4375rem;float:left;width:50rem\"><p id=\"b\" style=\"margin-top:10px\">å¦\\x82æ\\x9e\\x9cæ\\x82¨æ\\x98¯ç«\\x99é\\x95¿ï¼\\x8cæ\\x82¨å\\x8f¯ä»¥å\\x89\\x8då¾\\x80WAFæ\\x8e§å\\x88¶å\\x8f°è¿\\x9bè¡\\x8cè¯¯æ\\x8a¥å±\\x8fè\\x94½è®¾ç½®ï¼\\x8cè®©æ\\x82¨ç\\x9a\\x84è®¿é\\x97®ä¸\\x8då\\x86\\x8dè¢«æ\\x8b¦æ\\x88ª</p></div></div></body><script>function changeLanguageZh() {document.getElementById(\"title\").innerHTML = \"è®¿é\\x97®è¢«æ\\x8b¦æ\\x88ªï¼\\x81\";document.getElementById(\"a\").innerHTML = \"æ\\x82¨ç\\x9a\\x84è¯·æ±\\x82ç\\x96\\x91ä¼¼æ\\x94»å\\x87»è¡\\x8cä¸ºï¼\\x81\";document.getElementById(\"b\").innerHTML = \"å¦\\x82æ\\x9e\\x9cæ\\x82¨æ\\x98¯ç«\\x99é\\x95¿ï¼\\x8cæ\\x82¨å\\x8f¯ä»¥å\\x89\\x8då¾\\x80WAFæ\\x8e§å\\x88¶å\\x8f°è¿\\x9bè¡\\x8cè¯¯æ\\x8a¥å±\\x8fè\\x94½è®¾ç½®ï¼\\x8cè®©æ\\x82¨ç\\x9a\\x84è®¿é\\x97®ä¸\\x8då\\x86\\x8dè¢«æ\\x8b¦æ\\x88ª\";document.getElementById(\"c\").innerHTML = \"äº\\x8bä»¶IDï¼\\x9a\";}function changeLanguageEn() {document.getElementById(\"title\").innerHTML = \"The access is blocked.\";document.getElementById(\"a\").innerHTML = \"Sorry, your request has been intercepted because it appears to be an attack.\";document.getElementById(\"b\").innerHTML = \"If you are the webmaster, configure related parameters on the WAF console to allow your requests.\";document.getElementById(\"c\").innerHTML = \"Event ID:\";}var language = navigator.language || navigator.browserLanguage;if (language.indexOf(\\'zh\\') > -1) {changeLanguageZh();} else if (language.indexOf(\\'en\\') > -1) {changeLanguageEn();} else{changeLanguageZh();}</script></html>\\n'"
      ]
     },
     "execution_count": 5,
     "metadata": {},
     "output_type": "execute_result"
    }
   ],
   "source": [
    "import requests\n",
    "r = requests.get('https://www.aicoin.net.cn/')\n",
    "response = r.text\n",
    "\n",
    "response"
   ]
  },
  {
   "cell_type": "markdown",
   "metadata": {},
   "source": [
    "## 加上 Header 的情況"
   ]
  },
  {
   "cell_type": "code",
   "execution_count": 8,
   "metadata": {},
   "outputs": [
    {
     "data": {
      "text/plain": [
       "'<html><head><title>404 Not Found</title></head><body bgcolor=\"white\"><center><h1>404 Not Found</h1></center><hr><center>ALB</center></body></html>\\n'"
      ]
     },
     "execution_count": 8,
     "metadata": {},
     "output_type": "execute_result"
    }
   ],
   "source": [
    "import requests\n",
    "headers = {'user-agent': 'Mozilla/5.0 (Windows NT 10.0; Win64; x64) AppleWebKit/537.36 (KHTML, like Gecko) Chrome/79.0.3945.130 Safari/537.36'}\n",
    "r = requests.get('https://www.aicoin.net.cn/',headers=headers)\n",
    "response = r.text\n",
    "\n",
    "response"
   ]
  },
  {
   "cell_type": "markdown",
   "metadata": {},
   "source": [
    "## 作業目標\n",
    "\n",
    "* 尋找一個網站是有作 Header 檢查的（Hint: 有加跟沒有加回傳結果不一樣）\n",
    "* 用上述網站說明該如何判斷 Header 中必須加上哪些資料才會正確\n"
   ]
  },
  {
   "cell_type": "code",
   "execution_count": null,
   "metadata": {},
   "outputs": [],
   "source": []
  }
 ],
 "metadata": {
  "kernelspec": {
   "display_name": "PCM",
   "language": "python",
   "name": "pcm"
  },
  "language_info": {
   "codemirror_mode": {
    "name": "ipython",
    "version": 3
   },
   "file_extension": ".py",
   "mimetype": "text/x-python",
   "name": "python",
   "nbconvert_exporter": "python",
   "pygments_lexer": "ipython3",
   "version": "3.7.5"
  }
 },
 "nbformat": 4,
 "nbformat_minor": 4
}
