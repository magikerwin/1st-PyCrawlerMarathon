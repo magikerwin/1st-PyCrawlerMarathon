{
 "cells": [
  {
   "cell_type": "markdown",
   "metadata": {},
   "source": [
    "# 動態網頁爬蟲 - 使用 Selenium\n",
    "\n",
    "* 了解 Selenium 用於動態網頁爬蟲的原理\n",
    "* 能夠使用 Selenium 撰寫動態網頁爬蟲"
   ]
  },
  {
   "cell_type": "markdown",
   "metadata": {},
   "source": [
    "## 動態模擬瀏覽器行為"
   ]
  },
  {
   "cell_type": "code",
   "execution_count": 1,
   "metadata": {},
   "outputs": [],
   "source": [
    "from selenium import webdriver\n",
    "from selenium.webdriver.support.ui import Select\n",
    "from bs4 import BeautifulSoup"
   ]
  },
  {
   "cell_type": "code",
   "execution_count": 2,
   "metadata": {},
   "outputs": [],
   "source": [
    "browser = webdriver.Chrome(executable_path='./chromedriver_win32/chromedriver.exe')\n",
    "browser.get(\"http://taqm.epa.gov.tw/taqm/tw/MonthlyAverage.aspx\")"
   ]
  },
  {
   "cell_type": "markdown",
   "metadata": {},
   "source": [
    "![](https://imgur.com/LwGGT8c.jpg)"
   ]
  },
  {
   "cell_type": "code",
   "execution_count": 3,
   "metadata": {},
   "outputs": [],
   "source": [
    "selectSite = Select(browser.find_element_by_id(\"ctl05_ddlSite\"))\n",
    "selectSite.select_by_value('29')\n",
    "selectYear = Select(browser.find_element_by_id(\"ctl05_ddlYear\"))\n",
    "selectYear.select_by_value('2014')"
   ]
  },
  {
   "cell_type": "code",
   "execution_count": 4,
   "metadata": {},
   "outputs": [],
   "source": [
    "browser.find_element_by_id('ctl05_btnQuery').click()"
   ]
  },
  {
   "cell_type": "code",
   "execution_count": 5,
   "metadata": {},
   "outputs": [
    {
     "data": {
      "text/plain": [
       "'<html xmlns=\"http://www.w3.org/1999/xhtml\" lang=\"zh-TW\"><head id=\"Head1\"><base href=\"https://taqm.epa.gov.tw/taqm/tw/\"><meta http-equiv=\"X-UA-Compatible\" content=\"IE=edge\"><meta http-equiv=\"Content-Type\" content=\"text/html; charset=UTF-8\"><title>行政院環境保護署－空氣品質監測網 - 月平均值查詢</title><meta name=\"title\" content=\"空氣品質監測網(TAQM)\">\\n<!--link rel=\"govtwsimpledc.xsd\" href=\"http://www.gov.tw/schema/dc/\" title=\"Dublin Core\" /--> \\n<link type=\"text/css\" href=\"/taqm/tw/style/all.min.css?v=20180508c\" rel=\"stylesheet\">\\n<script type=\"text/javascript\" async=\"\" src=\"https://www.google-analytics.com/analytics.js\"></script><script type=\"text/javascript\" src=\"/taqm/script/jquery.min.js\"></script>\\n<script type=\"text/javascript\" src=\"/taqm/script/jquery.myslide2.min.js\"></script>\\n<script type=\"text/javascript\">\\nfunction DownloadReport(url) {\\n\\tvar win = window.open(\"DownloadReport.aspx?file=\"+escape(url),\"download\" /*,\"modal=yes,menubar=no,scrollbars=no,status=no,titlebar=no,toolbar=no,height=200px,width=300px\"*/);'"
      ]
     },
     "execution_count": 5,
     "metadata": {},
     "output_type": "execute_result"
    }
   ],
   "source": [
    "# 取得資料（等瀏覽器資料出現後才執行）\n",
    "html_source = browser.page_source\n",
    "html_source[:1000]"
   ]
  },
  {
   "cell_type": "code",
   "execution_count": 6,
   "metadata": {},
   "outputs": [
    {
     "name": "stdout",
     "output_type": "stream",
     "text": [
      "<table align=\"Center\" border=\"1\" cellpadding=\"3\" cellspacing=\"0\" class=\"TABLE_G\" id=\"ctl05_gv\" rules=\"all\" style=\"border-color:Black;border-width:1px;border-style:None;border-collapse:collapse;\">\n",
      "<tbody><tr style=\"color:Black;font-weight:normal;\">\n",
      "<th scope=\"col\">監測項目</th><th scope=\"col\">單位</th><th scope=\"col\">監測日期</th><th scope=\"col\">監測值</th><th scope=\"col\">標註</th>\n",
      "</tr><tr style=\"color:Black;\">\n",
      "<td class=\"no-alt\" rowspan=\"12\" style=\"white-space:nowrap;\" valign=\"top\">SO2</td><td class=\"no-alt\" rowspan=\"12\" valign=\"top\">ppb</td><td>2014/01</td><td>4.20</td><td> </td>\n",
      "</tr><tr class=\"ALT\" style=\"color:Black;\">\n",
      "<td>2014/02</td><td>2.50</td><td> </td>\n",
      "</tr><tr style=\"color:Black;\">\n",
      "<td>2014/03</td><td>3.80</td><td> </td>\n",
      "</tr><tr class=\"ALT\" style=\"color:Black;\">\n",
      "<td>2014/04</td><td>3.40</td><td> </td>\n",
      "</tr><tr style=\"color:Black;\">\n",
      "<td>2014/05</td><td>3.10</td><td> </td>\n",
      "</tr><tr class=\"ALT\" style=\"color:Black;\">\n",
      "<td>2014/06</td><td>3</td><td> </td>\n",
      "</tr><tr style=\"color:Black;\">\n",
      "<td>2014/07</td><td>3.70</td><td> </td>\n",
      "</tr><tr class=\"ALT\" style=\"color:Black;\">\n",
      "<td>2014/08</td><td>3.40</td><td> </td>\n",
      "</tr><tr style=\"color:Black;\">\n",
      "<td>2014/09</td><td>3.70</td><td> </td>\n",
      "</tr><tr class=\"ALT\" style=\"color:Black;\">\n",
      "<td>2014/10</td><td>2.80</td><td> </td>\n",
      "</tr><tr style=\"color:Black;\">\n",
      "<td>2014/11</td><td>2.70</td><td> </td>\n",
      "</tr><tr class=\"ALT\" style=\"color:Black;\">\n",
      "<td>2014/12</td><td>3.10</td><td> </td>\n",
      "</tr><tr style=\"color:Black;\">\n",
      "<td class=\"no-alt\" rowspan=\"12\" style=\"white-space:nowrap;\" valign=\"top\">CO</td><td class=\"no-alt\" rowspan=\"12\" valign=\"top\">ppm</td><td>2014/01</td><td>0.48</td><td> </td>\n",
      "</tr><tr class=\"ALT\" style=\"color:Black;\">\n",
      "<td>2014/02</td><td>0.38</td><td> </td>\n",
      "</tr><tr style=\"color:Black;\">\n",
      "<td>2014/03</td><td>0.47</td><td> </td>\n",
      "</tr><tr class=\"ALT\" style=\"color:Black;\">\n",
      "<td>2014/04</td><td>0.39</td><td> </td>\n",
      "</tr><tr style=\"color:Black;\">\n",
      "<td>2014/05</td><td>0.35</td><td> </td>\n",
      "</tr><tr class=\"ALT\" style=\"color:Black;\">\n",
      "<td>2014/06</td><td>0.27</td><td> </td>\n",
      "</tr><tr style=\"color:Black;\">\n",
      "<td>2014/07</td><td>0.22</td><td> </td>\n",
      "</tr><tr class=\"ALT\" style=\"color:Black;\">\n",
      "<td>2014/08</td><td>0.23</td><td> </td>\n",
      "</tr><tr style=\"color:Black;\">\n",
      "<td>2014/09</td><td>0.31</td><td> </td>\n",
      "</tr><tr class=\"ALT\" style=\"color:Black;\">\n",
      "<td>2014/10</td><td>0.35</td><td> </td>\n",
      "</tr><tr style=\"color:Black;\">\n",
      "<td>2014/11</td><td>0.41</td><td> </td>\n",
      "</tr><tr class=\"ALT\" style=\"color:Black;\">\n",
      "<td>2014/12</td><td>0.42</td><td> </td>\n",
      "</tr><tr style=\"color:Black;\">\n",
      "<td class=\"no-alt\" rowspan=\"12\" style=\"white-space:nowrap;\" valign=\"top\">O3</td><td class=\"no-alt\" rowspan=\"12\" valign=\"top\">ppb</td><td>2014/01</td><td>30.70</td><td> </td>\n",
      "</tr><tr class=\"ALT\" style=\"color:Black;\">\n",
      "<td>2014/02</td><td>31.90</td><td> </td>\n",
      "</tr><tr style=\"color:Black;\">\n",
      "<td>2014/03</td><td>35.10</td><td> </td>\n",
      "</tr><tr class=\"ALT\" style=\"color:Black;\">\n",
      "<td>2014/04</td><td>41.50</td><td> </td>\n",
      "</tr><tr style=\"color:Black;\">\n",
      "<td>2014/05</td><td>26.80</td><td> </td>\n",
      "</tr><tr class=\"ALT\" style=\"color:Black;\">\n",
      "<td>2014/06</td><td>23.50</td><td> </td>\n",
      "</tr><tr style=\"color:Black;\">\n",
      "<td>2014/07</td><td>24.30</td><td> </td>\n",
      "</tr><tr class=\"ALT\" style=\"color:Black;\">\n",
      "<td>2014/08</td><td>24.70</td><td> </td>\n",
      "</tr><tr style=\"color:Black;\">\n",
      "<td>2014/09</td><td>27.60</td><td> </td>\n",
      "</tr><tr class=\"ALT\" style=\"color:Black;\">\n",
      "<td>2014/10</td><td>43.20</td><td> </td>\n",
      "</tr><tr style=\"color:Black;\">\n",
      "<td>2014/11</td><td>32.80</td><td> </td>\n",
      "</tr><tr class=\"ALT\" style=\"color:Black;\">\n",
      "<td>2014/12</td><td>28.80</td><td> </td>\n",
      "</tr><tr style=\"color:Black;\">\n",
      "<td class=\"no-alt\" rowspan=\"12\" style=\"white-space:nowrap;\" valign=\"top\">PM10</td><td class=\"no-alt\" rowspan=\"12\" valign=\"top\">μg/m3</td><td>2014/01</td><td>72</td><td> </td>\n",
      "</tr><tr class=\"ALT\" style=\"color:Black;\">\n",
      "<td>2014/02</td><td>50</td><td> </td>\n",
      "</tr><tr style=\"color:Black;\">\n",
      "<td>2014/03</td><td>74</td><td> </td>\n",
      "</tr><tr class=\"ALT\" style=\"color:Black;\">\n",
      "<td>2014/04</td><td>64</td><td> </td>\n",
      "</tr><tr style=\"color:Black;\">\n",
      "<td>2014/05</td><td>39</td><td> </td>\n",
      "</tr><tr class=\"ALT\" style=\"color:Black;\">\n",
      "<td>2014/06</td><td>34</td><td> </td>\n",
      "</tr><tr style=\"color:Black;\">\n",
      "<td>2014/07</td><td>35</td><td> </td>\n",
      "</tr><tr class=\"ALT\" style=\"color:Black;\">\n",
      "<td>2014/08</td><td>32</td><td> </td>\n",
      "</tr><tr style=\"color:Black;\">\n",
      "<td>2014/09</td><td>47</td><td> </td>\n",
      "</tr><tr class=\"ALT\" style=\"color:Black;\">\n",
      "<td>2014/10</td><td>69</td><td> </td>\n",
      "</tr><tr style=\"color:Black;\">\n",
      "<td>2014/11</td><td>67</td><td> </td>\n",
      "</tr><tr class=\"ALT\" style=\"color:Black;\">\n",
      "<td>2014/12</td><td>60</td><td> </td>\n",
      "</tr><tr style=\"color:Black;\">\n",
      "<td class=\"no-alt\" rowspan=\"12\" style=\"white-space:nowrap;\" valign=\"top\">NOx</td><td class=\"no-alt\" rowspan=\"12\" valign=\"top\">ppb</td><td>2014/01</td><td>23.63</td><td> </td>\n",
      "</tr><tr class=\"ALT\" style=\"color:Black;\">\n",
      "<td>2014/02</td><td>16.89</td><td> </td>\n",
      "</tr><tr style=\"color:Black;\">\n",
      "<td>2014/03</td><td>21.78</td><td> </td>\n",
      "</tr><tr class=\"ALT\" style=\"color:Black;\">\n",
      "<td>2014/04</td><td>17.06</td><td> </td>\n",
      "</tr><tr style=\"color:Black;\">\n",
      "<td>2014/05</td><td>16.66</td><td> </td>\n",
      "</tr><tr class=\"ALT\" style=\"color:Black;\">\n",
      "<td>2014/06</td><td>13.82</td><td> </td>\n",
      "</tr><tr style=\"color:Black;\">\n",
      "<td>2014/07</td><td>12.16</td><td> </td>\n",
      "</tr><tr class=\"ALT\" style=\"color:Black;\">\n",
      "<td>2014/08</td><td>12.46</td><td> </td>\n",
      "</tr><tr style=\"color:Black;\">\n",
      "<td>2014/09</td><td>15.15</td><td> </td>\n",
      "</tr><tr class=\"ALT\" style=\"color:Black;\">\n",
      "<td>2014/10</td><td>16.72</td><td> </td>\n",
      "</tr><tr style=\"color:Black;\">\n",
      "<td>2014/11</td><td>18.61</td><td> </td>\n",
      "</tr><tr class=\"ALT\" style=\"color:Black;\">\n",
      "<td>2014/12</td><td>19.20</td><td> </td>\n",
      "</tr><tr style=\"color:Black;\">\n",
      "<td class=\"no-alt\" rowspan=\"12\" style=\"white-space:nowrap;\" valign=\"top\">NO</td><td class=\"no-alt\" rowspan=\"12\" valign=\"top\">ppb</td><td>2014/01</td><td>4.75</td><td> </td>\n",
      "</tr><tr class=\"ALT\" style=\"color:Black;\">\n",
      "<td>2014/02</td><td>2.53</td><td> </td>\n",
      "</tr><tr style=\"color:Black;\">\n",
      "<td>2014/03</td><td>3.40</td><td> </td>\n",
      "</tr><tr class=\"ALT\" style=\"color:Black;\">\n",
      "<td>2014/04</td><td>1.56</td><td> </td>\n",
      "</tr><tr style=\"color:Black;\">\n",
      "<td>2014/05</td><td>2.37</td><td> </td>\n",
      "</tr><tr class=\"ALT\" style=\"color:Black;\">\n",
      "<td>2014/06</td><td>2.17</td><td> </td>\n",
      "</tr><tr style=\"color:Black;\">\n",
      "<td>2014/07</td><td>2.04</td><td> </td>\n",
      "</tr><tr class=\"ALT\" style=\"color:Black;\">\n",
      "<td>2014/08</td><td>2.09</td><td> </td>\n",
      "</tr><tr style=\"color:Black;\">\n",
      "<td>2014/09</td><td>2</td><td> </td>\n",
      "</tr><tr class=\"ALT\" style=\"color:Black;\">\n",
      "<td>2014/10</td><td>1.88</td><td> </td>\n",
      "</tr><tr style=\"color:Black;\">\n",
      "<td>2014/11</td><td>2.63</td><td> </td>\n",
      "</tr><tr class=\"ALT\" style=\"color:Black;\">\n",
      "<td>2014/12</td><td>3.17</td><td> </td>\n",
      "</tr><tr style=\"color:Black;\">\n",
      "<td class=\"no-alt\" rowspan=\"12\" style=\"white-space:nowrap;\" valign=\"top\">NO2</td><td class=\"no-alt\" rowspan=\"12\" valign=\"top\">ppb</td><td>2014/01</td><td>18.88</td><td> </td>\n",
      "</tr><tr class=\"ALT\" style=\"color:Black;\">\n",
      "<td>2014/02</td><td>14.36</td><td> </td>\n",
      "</tr><tr style=\"color:Black;\">\n",
      "<td>2014/03</td><td>18.38</td><td> </td>\n",
      "</tr><tr class=\"ALT\" style=\"color:Black;\">\n",
      "<td>2014/04</td><td>15.49</td><td> </td>\n",
      "</tr><tr style=\"color:Black;\">\n",
      "<td>2014/05</td><td>14.28</td><td> </td>\n",
      "</tr><tr class=\"ALT\" style=\"color:Black;\">\n",
      "<td>2014/06</td><td>11.65</td><td> </td>\n",
      "</tr><tr style=\"color:Black;\">\n",
      "<td>2014/07</td><td>10.11</td><td> </td>\n",
      "</tr><tr class=\"ALT\" style=\"color:Black;\">\n",
      "<td>2014/08</td><td>10.36</td><td> </td>\n",
      "</tr><tr style=\"color:Black;\">\n",
      "<td>2014/09</td><td>13.14</td><td> </td>\n",
      "</tr><tr class=\"ALT\" style=\"color:Black;\">\n",
      "<td>2014/10</td><td>14.82</td><td> </td>\n",
      "</tr><tr style=\"color:Black;\">\n",
      "<td>2014/11</td><td>15.98</td><td> </td>\n",
      "</tr><tr class=\"ALT\" style=\"color:Black;\">\n",
      "<td>2014/12</td><td>16.02</td><td> </td>\n",
      "</tr><tr style=\"color:Black;\">\n",
      "<td class=\"no-alt\" rowspan=\"1\" style=\"white-space:nowrap;\" valign=\"top\">THC</td><td class=\"no-alt\" rowspan=\"1\" valign=\"top\">ppm</td><td> </td><td> </td><td>無此測項</td>\n",
      "</tr><tr class=\"ALT\" style=\"color:Black;\">\n",
      "<td class=\"no-alt\" rowspan=\"1\" style=\"white-space:nowrap;\" valign=\"top\">NMHC</td><td class=\"no-alt\" rowspan=\"1\" valign=\"top\">ppm</td><td> </td><td> </td><td>無此測項</td>\n",
      "</tr><tr style=\"color:Black;\">\n",
      "<td style=\"white-space:nowrap;\">CH4</td><td>ppm</td><td> </td><td> </td><td>無此測項</td>\n",
      "</tr>\n",
      "</tbody></table>\n"
     ]
    }
   ],
   "source": [
    "soup = BeautifulSoup(html_source, 'html.parser')\n",
    "table = soup.find('table', class_='TABLE_G')\n",
    "print(table)"
   ]
  },
  {
   "cell_type": "markdown",
   "metadata": {},
   "source": [
    "## 作業目標\n",
    "\n",
    "* 根據範例使用 selenuim 取出 高雄市小港區 2019 年 空氣品質 資料，並用一個適合的資料結構儲存\n",
    "* Hint: 將所有資料存在一個變數當中取出\n",
    "\n"
   ]
  },
  {
   "cell_type": "code",
   "execution_count": null,
   "metadata": {},
   "outputs": [],
   "source": []
  }
 ],
 "metadata": {
  "kernelspec": {
   "display_name": "PCM",
   "language": "python",
   "name": "pcm"
  },
  "language_info": {
   "codemirror_mode": {
    "name": "ipython",
    "version": 3
   },
   "file_extension": ".py",
   "mimetype": "text/x-python",
   "name": "python",
   "nbconvert_exporter": "python",
   "pygments_lexer": "ipython3",
   "version": "3.7.5"
  }
 },
 "nbformat": 4,
 "nbformat_minor": 4
}
