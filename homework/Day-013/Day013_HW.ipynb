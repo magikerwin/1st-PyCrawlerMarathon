{
 "cells": [
  {
   "cell_type": "markdown",
   "metadata": {},
   "source": [
    "# PTT 網路爬蟲實作練習\n",
    "\n",
    "\n",
    "* 能夠利用 Request + BeatifulSour 撰寫爬蟲，並存放到合適的資料結構\n"
   ]
  },
  {
   "cell_type": "markdown",
   "metadata": {},
   "source": [
    "## 作業目標\n",
    "\n",
    "根據範例 ，完成以下問題：\n",
    "\n",
    "* ① 印出最新文章的「作者」「標題」「時間」\n",
    "* ② 印出第一頁所有文章的「作者」「標題」「時間」\n"
   ]
  },
  {
   "cell_type": "code",
   "execution_count": 1,
   "metadata": {},
   "outputs": [],
   "source": [
    "import requests\n",
    "from bs4 import BeautifulSoup\n",
    "import pandas as pd"
   ]
  },
  {
   "cell_type": "markdown",
   "metadata": {},
   "source": [
    "### ① 印出最新文章的「作者」「標題」「時間」"
   ]
  },
  {
   "cell_type": "code",
   "execution_count": 2,
   "metadata": {},
   "outputs": [
    {
     "data": {
      "text/plain": [
       "'\\nYour Code\\n'"
      ]
     },
     "execution_count": 2,
     "metadata": {},
     "output_type": "execute_result"
    }
   ],
   "source": [
    "'''\n",
    "Your Code\n",
    "'''"
   ]
  },
  {
   "cell_type": "code",
   "execution_count": 3,
   "metadata": {},
   "outputs": [],
   "source": [
    "url = 'https://www.ptt.cc/bbs/NBA/index.html'\n",
    "r = requests.get(url)\n",
    "\n",
    "soup = BeautifulSoup(r.text, \"html5lib\")"
   ]
  },
  {
   "cell_type": "code",
   "execution_count": 4,
   "metadata": {},
   "outputs": [],
   "source": [
    "infos = []\n",
    "for d in soup.find_all(class_=\"title\"):\n",
    "    #print(d.text.replace('\\t', '').replace('\\n', ''))\n",
    "    try:\n",
    "        r = BeautifulSoup(requests.get('https://www.ptt.cc'+d.find('a')['href']).text, \"html5lib\")\n",
    "        author, tag, title, date = [info.text for info in r.find_all(class_=\"article-meta-value\")]\n",
    "        #print(date, author, title)\n",
    "        infos.append([date, author, title])\n",
    "        break\n",
    "    except:\n",
    "        continue"
   ]
  },
  {
   "cell_type": "code",
   "execution_count": 5,
   "metadata": {},
   "outputs": [
    {
     "data": {
      "text/html": [
       "<div>\n",
       "<style scoped>\n",
       "    .dataframe tbody tr th:only-of-type {\n",
       "        vertical-align: middle;\n",
       "    }\n",
       "\n",
       "    .dataframe tbody tr th {\n",
       "        vertical-align: top;\n",
       "    }\n",
       "\n",
       "    .dataframe thead th {\n",
       "        text-align: right;\n",
       "    }\n",
       "</style>\n",
       "<table border=\"1\" class=\"dataframe\">\n",
       "  <thead>\n",
       "    <tr style=\"text-align: right;\">\n",
       "      <th></th>\n",
       "      <th>Date</th>\n",
       "      <th>Author</th>\n",
       "      <th>Title</th>\n",
       "    </tr>\n",
       "  </thead>\n",
       "  <tbody>\n",
       "    <tr>\n",
       "      <th>0</th>\n",
       "      <td>Sun Dec 15 15:22:08 2019</td>\n",
       "      <td>blue999 (FLY)</td>\n",
       "      <td>[花邊]林書豪被看破手腳?中媒:CBA生存比NBA更難</td>\n",
       "    </tr>\n",
       "  </tbody>\n",
       "</table>\n",
       "</div>"
      ],
      "text/plain": [
       "                       Date         Author                        Title\n",
       "0  Sun Dec 15 15:22:08 2019  blue999 (FLY)  [花邊]林書豪被看破手腳?中媒:CBA生存比NBA更難"
      ]
     },
     "execution_count": 5,
     "metadata": {},
     "output_type": "execute_result"
    }
   ],
   "source": [
    "columns = [\"Date\", \"Author\", \"Title\"]\n",
    "pd.DataFrame(infos, columns=columns)"
   ]
  },
  {
   "cell_type": "markdown",
   "metadata": {},
   "source": [
    "### ② 印出第一頁所有文章的「作者」「標題」「時間」"
   ]
  },
  {
   "cell_type": "code",
   "execution_count": 6,
   "metadata": {},
   "outputs": [
    {
     "data": {
      "text/plain": [
       "'\\nYour Code\\n'"
      ]
     },
     "execution_count": 6,
     "metadata": {},
     "output_type": "execute_result"
    }
   ],
   "source": [
    "'''\n",
    "Your Code\n",
    "'''"
   ]
  },
  {
   "cell_type": "code",
   "execution_count": 7,
   "metadata": {},
   "outputs": [],
   "source": [
    "infos = []\n",
    "for d in soup.find_all(class_=\"title\"):\n",
    "    #print(d.text.replace('\\t', '').replace('\\n', ''))\n",
    "    try:\n",
    "        r = BeautifulSoup(requests.get('https://www.ptt.cc'+d.find('a')['href']).text, \"html5lib\")\n",
    "        author, tag, title, date = [info.text for info in r.find_all(class_=\"article-meta-value\")]\n",
    "        #print(date, author, title)\n",
    "        infos.append([date, author, title])\n",
    "        #break\n",
    "    except:\n",
    "        continue"
   ]
  },
  {
   "cell_type": "code",
   "execution_count": 8,
   "metadata": {},
   "outputs": [
    {
     "data": {
      "text/html": [
       "<div>\n",
       "<style scoped>\n",
       "    .dataframe tbody tr th:only-of-type {\n",
       "        vertical-align: middle;\n",
       "    }\n",
       "\n",
       "    .dataframe tbody tr th {\n",
       "        vertical-align: top;\n",
       "    }\n",
       "\n",
       "    .dataframe thead th {\n",
       "        text-align: right;\n",
       "    }\n",
       "</style>\n",
       "<table border=\"1\" class=\"dataframe\">\n",
       "  <thead>\n",
       "    <tr style=\"text-align: right;\">\n",
       "      <th></th>\n",
       "      <th>Date</th>\n",
       "      <th>Author</th>\n",
       "      <th>Title</th>\n",
       "    </tr>\n",
       "  </thead>\n",
       "  <tbody>\n",
       "    <tr>\n",
       "      <th>0</th>\n",
       "      <td>Sun Dec 15 15:22:08 2019</td>\n",
       "      <td>blue999 (FLY)</td>\n",
       "      <td>[花邊]林書豪被看破手腳?中媒:CBA生存比NBA更難</td>\n",
       "    </tr>\n",
       "    <tr>\n",
       "      <th>1</th>\n",
       "      <td>Mon Jun 24 15:08:02 2019</td>\n",
       "      <td>Vedan (味丹)</td>\n",
       "      <td>[公告] 樂透取消及未來不再開啟樂透</td>\n",
       "    </tr>\n",
       "    <tr>\n",
       "      <th>2</th>\n",
       "      <td>Fri Oct 25 10:44:03 2019</td>\n",
       "      <td>qazwsx879345 (Rajon Rondo)</td>\n",
       "      <td>[公告] 版主上任相關事項</td>\n",
       "    </tr>\n",
       "    <tr>\n",
       "      <th>3</th>\n",
       "      <td>Fri Nov 29 00:46:01 2019</td>\n",
       "      <td>JerroLi (銀色小刀)</td>\n",
       "      <td>[情報] SEASON Schedule 賽程 December 19–20</td>\n",
       "    </tr>\n",
       "    <tr>\n",
       "      <th>4</th>\n",
       "      <td>Sun Dec  8 23:55:00 2019</td>\n",
       "      <td>dragon803 (好想去露營啊~)</td>\n",
       "      <td>[公告]是否禁止basketball top 5文章投票開始</td>\n",
       "    </tr>\n",
       "  </tbody>\n",
       "</table>\n",
       "</div>"
      ],
      "text/plain": [
       "                       Date                      Author  \\\n",
       "0  Sun Dec 15 15:22:08 2019               blue999 (FLY)   \n",
       "1  Mon Jun 24 15:08:02 2019                  Vedan (味丹)   \n",
       "2  Fri Oct 25 10:44:03 2019  qazwsx879345 (Rajon Rondo)   \n",
       "3  Fri Nov 29 00:46:01 2019              JerroLi (銀色小刀)   \n",
       "4  Sun Dec  8 23:55:00 2019         dragon803 (好想去露營啊~)   \n",
       "\n",
       "                                    Title  \n",
       "0             [花邊]林書豪被看破手腳?中媒:CBA生存比NBA更難  \n",
       "1                      [公告] 樂透取消及未來不再開啟樂透  \n",
       "2                           [公告] 版主上任相關事項  \n",
       "3  [情報] SEASON Schedule 賽程 December 19–20  \n",
       "4          [公告]是否禁止basketball top 5文章投票開始  "
      ]
     },
     "execution_count": 8,
     "metadata": {},
     "output_type": "execute_result"
    }
   ],
   "source": [
    "columns = [\"Date\", \"Author\", \"Title\"]\n",
    "pd.DataFrame(infos, columns=columns)"
   ]
  },
  {
   "cell_type": "markdown",
   "metadata": {},
   "source": [
    "### ③ 試著爬爬看其他版的文章"
   ]
  },
  {
   "cell_type": "code",
   "execution_count": 9,
   "metadata": {},
   "outputs": [
    {
     "data": {
      "text/plain": [
       "'\\nYour Code\\n'"
      ]
     },
     "execution_count": 9,
     "metadata": {},
     "output_type": "execute_result"
    }
   ],
   "source": [
    "'''\n",
    "Your Code\n",
    "'''"
   ]
  },
  {
   "cell_type": "code",
   "execution_count": 10,
   "metadata": {},
   "outputs": [],
   "source": [
    "s = requests.Session()\n",
    "payload ={\n",
    "    \"from\":\"/bbs/Gossiping/index.html\",\n",
    "    \"yes\":\"yes\"\n",
    "}\n",
    "r = s.post(\"https://www.ptt.cc/ask/over18?from=%2Fbbs%2FGossiping%2Findex.html\",payload)"
   ]
  },
  {
   "cell_type": "code",
   "execution_count": 11,
   "metadata": {},
   "outputs": [],
   "source": [
    "url = 'https://www.ptt.cc/bbs/Gossiping/index.html'\n",
    "r = s.get(\"https://www.ptt.cc/bbs/Gossiping/index.html\")\n",
    "\n",
    "soup = BeautifulSoup(r.text, \"html5lib\")"
   ]
  },
  {
   "cell_type": "code",
   "execution_count": 12,
   "metadata": {},
   "outputs": [],
   "source": [
    "infos = []\n",
    "for d in soup.find_all(class_=\"title\"):\n",
    "    try:\n",
    "        r = BeautifulSoup(s.get('https://www.ptt.cc'+d.find('a')['href']).text, \"html5lib\")\n",
    "        author, tag, title, date = [info.text for info in r.find_all(class_=\"article-meta-value\")]\n",
    "        #print(date, author, title)\n",
    "        infos.append([date, author, title])\n",
    "        #break\n",
    "    except:\n",
    "        continue"
   ]
  },
  {
   "cell_type": "code",
   "execution_count": 13,
   "metadata": {},
   "outputs": [
    {
     "data": {
      "text/html": [
       "<div>\n",
       "<style scoped>\n",
       "    .dataframe tbody tr th:only-of-type {\n",
       "        vertical-align: middle;\n",
       "    }\n",
       "\n",
       "    .dataframe tbody tr th {\n",
       "        vertical-align: top;\n",
       "    }\n",
       "\n",
       "    .dataframe thead th {\n",
       "        text-align: right;\n",
       "    }\n",
       "</style>\n",
       "<table border=\"1\" class=\"dataframe\">\n",
       "  <thead>\n",
       "    <tr style=\"text-align: right;\">\n",
       "      <th></th>\n",
       "      <th>Date</th>\n",
       "      <th>Author</th>\n",
       "      <th>Title</th>\n",
       "    </tr>\n",
       "  </thead>\n",
       "  <tbody>\n",
       "    <tr>\n",
       "      <th>0</th>\n",
       "      <td>Sun Dec 15 15:28:45 2019</td>\n",
       "      <td>ponwha22 (小魔女斗雷咪)</td>\n",
       "      <td>[新聞] 投資客脫手靈骨塔遭假仲介詐騙 詐團不法</td>\n",
       "    </tr>\n",
       "    <tr>\n",
       "      <th>1</th>\n",
       "      <td>Sun Dec 15 15:28:41 2019</td>\n",
       "      <td>Israfil (贖罪聖音)</td>\n",
       "      <td>[新聞] 英國女王徵社群小編 年薪200萬享33天年假</td>\n",
       "    </tr>\n",
       "    <tr>\n",
       "      <th>2</th>\n",
       "      <td>Sun Dec 15 15:29:04 2019</td>\n",
       "      <td>freeunixer (離自相空她相)</td>\n",
       "      <td>Re: [問卦]  發明右腦圖像學習法的是不是天才阿?</td>\n",
       "    </tr>\n",
       "    <tr>\n",
       "      <th>3</th>\n",
       "      <td>Sun Dec 15 15:31:48 2019</td>\n",
       "      <td>Emerson158 (紅豆 X 八嘎 X 烏魯賽)</td>\n",
       "      <td>Re: [問卦] 台科大在普大等級大概在那</td>\n",
       "    </tr>\n",
       "    <tr>\n",
       "      <th>4</th>\n",
       "      <td>Sun Dec 15 15:31:55 2019</td>\n",
       "      <td>zeristso (zeristso)</td>\n",
       "      <td>[問卦] 有沒有要怎麼讓女友答應愛愛的八卦</td>\n",
       "    </tr>\n",
       "    <tr>\n",
       "      <th>5</th>\n",
       "      <td>Sun Dec 15 15:32:45 2019</td>\n",
       "      <td>DICB (曾經擁有燒雲林縣垃圾。S)</td>\n",
       "      <td>[新聞] R:柯文哲暗助陳明義 力抗民進黨</td>\n",
       "    </tr>\n",
       "    <tr>\n",
       "      <th>6</th>\n",
       "      <td>Sun Dec 15 15:33:02 2019</td>\n",
       "      <td>Rusnake5566 (魯蛇+56 PTT最強帳號)</td>\n",
       "      <td>[問卦] 內  搭經濟艙會振興經濟嗎?</td>\n",
       "    </tr>\n",
       "    <tr>\n",
       "      <th>7</th>\n",
       "      <td>Sun Dec 15 15:34:44 2019</td>\n",
       "      <td>psl7634 (鍵盤補給官)</td>\n",
       "      <td>[問卦] 為什麼乖乖不附玩具了</td>\n",
       "    </tr>\n",
       "    <tr>\n",
       "      <th>8</th>\n",
       "      <td>Wed Aug 21 08:33:39 2019</td>\n",
       "      <td>arsonlolita (蘿莉塔)</td>\n",
       "      <td>[公告] 八卦板板規(2019.08.21)</td>\n",
       "    </tr>\n",
       "    <tr>\n",
       "      <th>9</th>\n",
       "      <td>Sun Nov 24 21:28:01 2019</td>\n",
       "      <td>witty ( )</td>\n",
       "      <td>[協尋] 11/20高市大順一路548號順明街行車記錄</td>\n",
       "    </tr>\n",
       "    <tr>\n",
       "      <th>10</th>\n",
       "      <td>Sun Dec  8 01:29:53 2019</td>\n",
       "      <td>Amybook (123)</td>\n",
       "      <td>協尋12/6台中市向上路往精科五路行車記錄器</td>\n",
       "    </tr>\n",
       "    <tr>\n",
       "      <th>11</th>\n",
       "      <td>Mon Dec  2 23:13:15 2019</td>\n",
       "      <td>Bignana (天劍煙雨)</td>\n",
       "      <td>[公告] 一劍無悔，十二月置底閒聊文</td>\n",
       "    </tr>\n",
       "  </tbody>\n",
       "</table>\n",
       "</div>"
      ],
      "text/plain": [
       "                        Date                       Author  \\\n",
       "0   Sun Dec 15 15:28:45 2019            ponwha22 (小魔女斗雷咪)   \n",
       "1   Sun Dec 15 15:28:41 2019               Israfil (贖罪聖音)   \n",
       "2   Sun Dec 15 15:29:04 2019          freeunixer (離自相空她相)   \n",
       "3   Sun Dec 15 15:31:48 2019   Emerson158 (紅豆 X 八嘎 X 烏魯賽)   \n",
       "4   Sun Dec 15 15:31:55 2019          zeristso (zeristso)   \n",
       "5   Sun Dec 15 15:32:45 2019          DICB (曾經擁有燒雲林縣垃圾。S)   \n",
       "6   Sun Dec 15 15:33:02 2019  Rusnake5566 (魯蛇+56 PTT最強帳號)   \n",
       "7   Sun Dec 15 15:34:44 2019              psl7634 (鍵盤補給官)   \n",
       "8   Wed Aug 21 08:33:39 2019            arsonlolita (蘿莉塔)   \n",
       "9   Sun Nov 24 21:28:01 2019                    witty ( )   \n",
       "10  Sun Dec  8 01:29:53 2019                Amybook (123)   \n",
       "11  Mon Dec  2 23:13:15 2019               Bignana (天劍煙雨)   \n",
       "\n",
       "                          Title  \n",
       "0      [新聞] 投資客脫手靈骨塔遭假仲介詐騙 詐團不法  \n",
       "1   [新聞] 英國女王徵社群小編 年薪200萬享33天年假  \n",
       "2   Re: [問卦]  發明右腦圖像學習法的是不是天才阿?  \n",
       "3         Re: [問卦] 台科大在普大等級大概在那  \n",
       "4         [問卦] 有沒有要怎麼讓女友答應愛愛的八卦  \n",
       "5         [新聞] R:柯文哲暗助陳明義 力抗民進黨  \n",
       "6           [問卦] 內  搭經濟艙會振興經濟嗎?  \n",
       "7               [問卦] 為什麼乖乖不附玩具了  \n",
       "8        [公告] 八卦板板規(2019.08.21)  \n",
       "9   [協尋] 11/20高市大順一路548號順明街行車記錄  \n",
       "10       協尋12/6台中市向上路往精科五路行車記錄器  \n",
       "11           [公告] 一劍無悔，十二月置底閒聊文  "
      ]
     },
     "execution_count": 13,
     "metadata": {},
     "output_type": "execute_result"
    }
   ],
   "source": [
    "columns = [\"Date\", \"Author\", \"Title\"]\n",
    "pd.DataFrame(infos, columns=columns)"
   ]
  },
  {
   "cell_type": "code",
   "execution_count": null,
   "metadata": {},
   "outputs": [],
   "source": []
  }
 ],
 "metadata": {
  "kernelspec": {
   "display_name": "PCM",
   "language": "python",
   "name": "pcm"
  },
  "language_info": {
   "codemirror_mode": {
    "name": "ipython",
    "version": 3
   },
   "file_extension": ".py",
   "mimetype": "text/x-python",
   "name": "python",
   "nbconvert_exporter": "python",
   "pygments_lexer": "ipython3",
   "version": "3.7.5"
  }
 },
 "nbformat": 4,
 "nbformat_minor": 4
}
