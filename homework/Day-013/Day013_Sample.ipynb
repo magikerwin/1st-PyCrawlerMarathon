{
 "cells": [
  {
   "cell_type": "markdown",
   "metadata": {},
   "source": [
    "# PTT 網路爬蟲實作練習\n",
    "\n",
    "\n",
    "* 能夠利用 Request + BeatifulSour 撰寫爬蟲，並存放到合適的資料結構\n"
   ]
  },
  {
   "cell_type": "markdown",
   "metadata": {},
   "source": [
    "## PTT 網頁爬蟲"
   ]
  },
  {
   "cell_type": "code",
   "execution_count": 1,
   "metadata": {},
   "outputs": [
    {
     "name": "stdout",
     "output_type": "stream",
     "text": [
      "[花邊] 可愛花了672.5萬鎂買了Staples對面的閣樓\n",
      "作者: pneumo (超☆冒險蓋)\n",
      "[花邊] 詹皇將滿35歲仍不見下滑 熱火主帥讚找到不老之泉\n",
      "作者: thnlkj0665 (灰色地帶)\n",
      "[外絮] Oladipo復出!!!\n",
      "作者: robinson (阿呆)\n",
      "[新聞] 回到最初的起點？　甜瓜坦承一度願意重\n",
      "作者: fukawa947 (交大薛之謙)\n",
      "Re: [新聞] 遭質疑詐傷 籃網總管：不會逼厄文復出\n",
      "作者: ilanese (坐聽無弦曲)\n",
      "[情報] Pippen：灰狼的隊友不喜歡Butler，因為他\n",
      "作者: NSYSUheng (Pain)\n",
      "[公告] 板規v6.6\n",
      "[公告] 樂透取消及未來不再開啟樂透\n",
      "作者: Vedan (味丹)\n",
      "[公告] 版主上任相關事項 \n",
      "作者: qazwsx879345 (Rajon Rondo)\n",
      "[情報] SEASON Schedule 賽程 December 19–20\n",
      "作者: JerroLi (銀色小刀)\n",
      "[公告]是否禁止basketball top 5文章投票開始 \n",
      "作者: dragon803 (好想去露營啊~)\n"
     ]
    }
   ],
   "source": [
    "import requests\n",
    "from bs4 import BeautifulSoup\n",
    "\n",
    "url = 'https://www.ptt.cc/bbs/NBA/index.html'\n",
    "r = requests.get(url)\n",
    "\n",
    "soup = BeautifulSoup(r.text, \"html5lib\")\n",
    "\n",
    "for d in soup.find_all(class_=\"title\"):\n",
    "    print(d.text.replace('\\t', '').replace('\\n', ''))\n",
    "    try:\n",
    "        r = BeautifulSoup(requests.get('https://www.ptt.cc'+d.find('a')['href']).text, \"html5lib\")\n",
    "        print('作者: ' + r.find(class_='article-meta-value').text)\n",
    "    except:\n",
    "        continue\n"
   ]
  },
  {
   "cell_type": "markdown",
   "metadata": {},
   "source": [
    "## 作業目標\n",
    "\n",
    "根據範例 ，完成以下問題：\n",
    "\n",
    "* ① 印出最新文章的「作者」「標題」「時間」\n",
    "* ② 印出第一頁所有文章的「作者」「標題」「時間」\n",
    "* ③ 試著爬爬看其他版的文章\n"
   ]
  },
  {
   "cell_type": "code",
   "execution_count": null,
   "metadata": {},
   "outputs": [],
   "source": []
  }
 ],
 "metadata": {
  "kernelspec": {
   "display_name": "PCM",
   "language": "python",
   "name": "pcm"
  },
  "language_info": {
   "codemirror_mode": {
    "name": "ipython",
    "version": 3
   },
   "file_extension": ".py",
   "mimetype": "text/x-python",
   "name": "python",
   "nbconvert_exporter": "python",
   "pygments_lexer": "ipython3",
   "version": "3.7.5"
  }
 },
 "nbformat": 4,
 "nbformat_minor": 4
}
