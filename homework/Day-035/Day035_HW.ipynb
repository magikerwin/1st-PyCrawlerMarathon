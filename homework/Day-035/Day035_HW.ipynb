{
 "cells": [
  {
   "cell_type": "markdown",
   "metadata": {},
   "source": [
    "# 加速：多線程爬蟲\n",
    "\n",
    "\n",
    "\n",
    "* 了解知乎 API 使用方式與回傳內容\n",
    "* 撰寫程式存取 API 且添加標頭"
   ]
  },
  {
   "cell_type": "markdown",
   "metadata": {},
   "source": [
    "## 作業目標\n",
    "\n",
    "* 找一個之前實作過的爬蟲改用多線程改寫，比較前後時間的差異。\n",
    "\n",
    "\n",
    "\n"
   ]
  },
  {
   "cell_type": "code",
   "execution_count": null,
   "metadata": {},
   "outputs": [],
   "source": [
    "'''\n",
    "Your Code\n",
    "'''"
   ]
  },
  {
   "cell_type": "code",
   "execution_count": 1,
   "metadata": {},
   "outputs": [],
   "source": [
    "import requests\n",
    "from bs4 import BeautifulSoup\n",
    "import re\n",
    "import datetime\n",
    "import time\n",
    "import pandas as pd\n",
    "import _thread"
   ]
  },
  {
   "cell_type": "code",
   "execution_count": 2,
   "metadata": {},
   "outputs": [],
   "source": [
    "def get_date_post(text):\n",
    "    regex = \"\\d+/\\d+/\\d+\"\n",
    "    pattern = re.compile(regex)\n",
    "    result = re.search(pattern, text)\n",
    "    date_post = result.group(0)\n",
    "    return date_post"
   ]
  },
  {
   "cell_type": "code",
   "execution_count": 3,
   "metadata": {},
   "outputs": [],
   "source": [
    "def get_news(url, date_select, idx, startTime):    \n",
    "    r = requests.get(url)\n",
    "    soup = BeautifulSoup(r.text, \"html5lib\")\n",
    "    columns = [\"Date\", \"Tag\", \"Title\"]\n",
    "    df_infos = pd.DataFrame(columns=columns)\n",
    "    columns = [\"Date\", \"Tag\", \"Title\"]\n",
    "    df_infos = pd.DataFrame(columns=columns)\n",
    "    for d in soup.find(class_=\"part_list_2\").find_all('h3')[1:]:\n",
    "        date_post = get_date_post(d.find(class_=\"date\").text)\n",
    "        if date_post == date_select:\n",
    "            tag = d.find(\"em\").text\n",
    "            title = d.find(\"a\").text\n",
    "            df_info = pd.DataFrame([[date_post, tag, title]], columns=columns)\n",
    "            df_infos = df_infos.append(df_info, ignore_index=True)\n",
    "    \n",
    "    #print(df_infos[:1])\n",
    "    print(\"[No.{}]  accumulated time: {}\".format(idx, time.time() - startTime))"
   ]
  },
  {
   "cell_type": "code",
   "execution_count": 4,
   "metadata": {},
   "outputs": [],
   "source": [
    "urls = ['https://www.ettoday.net/news/news-list.htm'] * 5\n",
    "dates = [datetime.date.today()] * 5\n",
    "dates = [str(date).replace('-','/') for date in dates]"
   ]
  },
  {
   "cell_type": "code",
   "execution_count": 5,
   "metadata": {},
   "outputs": [
    {
     "name": "stdout",
     "output_type": "stream",
     "text": [
      "w/o multi-thread:\n",
      "\n",
      "[No.0]  accumulated time: 0.5192501544952393\n",
      "[No.1]  accumulated time: 1.0460641384124756\n",
      "[No.2]  accumulated time: 1.5956084728240967\n",
      "[No.3]  accumulated time: 2.1617605686187744\n",
      "[No.4]  accumulated time: 2.6934142112731934\n"
     ]
    }
   ],
   "source": [
    "print(\"w/o multi-thread:\\n\")\n",
    "\n",
    "startTime = time.time()\n",
    "\n",
    "for idx, (url, date) in enumerate(zip(urls, dates)):\n",
    "    get_news(url, date, idx, startTime)"
   ]
  },
  {
   "cell_type": "code",
   "execution_count": 6,
   "metadata": {},
   "outputs": [
    {
     "name": "stdout",
     "output_type": "stream",
     "text": [
      "w/ multi-thread:\n",
      "\n",
      "[No.3]  accumulated time: 1.0591027736663818\n",
      "[No.1]  accumulated time: 1.1277062892913818\n",
      "[No.4]  accumulated time: 1.2443935871124268\n",
      "[No.2]  accumulated time: 1.2783033847808838\n",
      "[No.0]  accumulated time: 1.4958300590515137\n"
     ]
    }
   ],
   "source": [
    "print(\"w/ multi-thread:\\n\")\n",
    "\n",
    "startTime = time.time()\n",
    "\n",
    "for idx, (url, date) in enumerate(zip(urls, dates)):\n",
    "    _thread.start_new_thread(get_news, (url, date, idx, startTime))"
   ]
  }
 ],
 "metadata": {
  "colab": {
   "name": "homework.ipynb",
   "provenance": []
  },
  "kernelspec": {
   "display_name": "PCM",
   "language": "python",
   "name": "pcm"
  },
  "language_info": {
   "codemirror_mode": {
    "name": "ipython",
    "version": 3
   },
   "file_extension": ".py",
   "mimetype": "text/x-python",
   "name": "python",
   "nbconvert_exporter": "python",
   "pygments_lexer": "ipython3",
   "version": "3.7.5"
  }
 },
 "nbformat": 4,
 "nbformat_minor": 4
}
