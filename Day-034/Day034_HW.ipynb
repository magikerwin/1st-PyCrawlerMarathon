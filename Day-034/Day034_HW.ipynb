{
 "cells": [
  {
   "cell_type": "markdown",
   "metadata": {
    "colab_type": "text",
    "id": "I8CoX4R7VoCd"
   },
   "source": [
    "# 反爬：代理伺服器/IP\n",
    "\n",
    "* 了解「IP 黑/白名單」的反爬蟲機制\n",
    "* 「IP 黑/白名單」反爬蟲的因應策略"
   ]
  },
  {
   "cell_type": "markdown",
   "metadata": {
    "colab_type": "text",
    "id": "n-3DZ_r5VoCe"
   },
   "source": [
    "## 作業目標\n",
    "\n",
    "* 目前程式中的 proxy_ips 是手動輸入的，請根據 https://free-proxy-list.net/ 寫一個可自動化抓取可用 Proxy 的 proxy_ips。\n",
    "\n",
    "\n"
   ]
  },
  {
   "cell_type": "code",
   "execution_count": 1,
   "metadata": {},
   "outputs": [],
   "source": [
    "from bs4 import BeautifulSoup\n",
    "import requests\n",
    "import random\n",
    "import pandas as pd"
   ]
  },
  {
   "cell_type": "code",
   "execution_count": 2,
   "metadata": {},
   "outputs": [
    {
     "data": {
      "text/html": [
       "<div>\n",
       "<style scoped>\n",
       "    .dataframe tbody tr th:only-of-type {\n",
       "        vertical-align: middle;\n",
       "    }\n",
       "\n",
       "    .dataframe tbody tr th {\n",
       "        vertical-align: top;\n",
       "    }\n",
       "\n",
       "    .dataframe thead th {\n",
       "        text-align: right;\n",
       "    }\n",
       "</style>\n",
       "<table border=\"1\" class=\"dataframe\">\n",
       "  <thead>\n",
       "    <tr style=\"text-align: right;\">\n",
       "      <th></th>\n",
       "      <th>proxy_ips</th>\n",
       "    </tr>\n",
       "  </thead>\n",
       "  <tbody>\n",
       "    <tr>\n",
       "      <th>0</th>\n",
       "      <td>103.106.148.200:37621</td>\n",
       "    </tr>\n",
       "    <tr>\n",
       "      <th>1</th>\n",
       "      <td>213.14.31.122:54434</td>\n",
       "    </tr>\n",
       "    <tr>\n",
       "      <th>2</th>\n",
       "      <td>1.10.189.107:51618</td>\n",
       "    </tr>\n",
       "    <tr>\n",
       "      <th>3</th>\n",
       "      <td>178.46.159.197:3128</td>\n",
       "    </tr>\n",
       "    <tr>\n",
       "      <th>4</th>\n",
       "      <td>190.107.20.206:34626</td>\n",
       "    </tr>\n",
       "    <tr>\n",
       "      <th>...</th>\n",
       "      <td>...</td>\n",
       "    </tr>\n",
       "    <tr>\n",
       "      <th>295</th>\n",
       "      <td>165.227.214.29:80</td>\n",
       "    </tr>\n",
       "    <tr>\n",
       "      <th>296</th>\n",
       "      <td>36.89.227.34:55177</td>\n",
       "    </tr>\n",
       "    <tr>\n",
       "      <th>297</th>\n",
       "      <td>171.6.154.12:8213</td>\n",
       "    </tr>\n",
       "    <tr>\n",
       "      <th>298</th>\n",
       "      <td>190.152.5.126:53040</td>\n",
       "    </tr>\n",
       "    <tr>\n",
       "      <th>299</th>\n",
       "      <td>41.180.65.27:43787</td>\n",
       "    </tr>\n",
       "  </tbody>\n",
       "</table>\n",
       "<p>300 rows × 1 columns</p>\n",
       "</div>"
      ],
      "text/plain": [
       "                 proxy_ips\n",
       "0    103.106.148.200:37621\n",
       "1      213.14.31.122:54434\n",
       "2       1.10.189.107:51618\n",
       "3      178.46.159.197:3128\n",
       "4     190.107.20.206:34626\n",
       "..                     ...\n",
       "295      165.227.214.29:80\n",
       "296     36.89.227.34:55177\n",
       "297      171.6.154.12:8213\n",
       "298    190.152.5.126:53040\n",
       "299     41.180.65.27:43787\n",
       "\n",
       "[300 rows x 1 columns]"
      ]
     },
     "execution_count": 2,
     "metadata": {},
     "output_type": "execute_result"
    }
   ],
   "source": [
    "def get_proxy_ips(url):\n",
    "    r = requests.get(url)\n",
    "    soup = BeautifulSoup(r.text, \"lxml\")\n",
    "    ip_table = soup.find(\"table\", class_=\"table table-striped table-bordered\")\n",
    "\n",
    "    proxy_ips = []\n",
    "    for row in ip_table.find(\"tbody\").find_all(\"tr\"):\n",
    "        ip, port = [tag.text for tag in row.find_all(\"td\")[0:2]]\n",
    "        proxy_ips.append(\"{}:{}\".format(ip,port))\n",
    "        \n",
    "    return proxy_ips\n",
    "\n",
    "proxy_ips = get_proxy_ips(\"https://free-proxy-list.net/\")\n",
    "pd.DataFrame(proxy_ips, columns=[\"proxy_ips\"])"
   ]
  },
  {
   "cell_type": "code",
   "execution_count": 3,
   "metadata": {},
   "outputs": [
    {
     "name": "stdout",
     "output_type": "stream",
     "text": [
      "Use 202.75.97.82:47009\n",
      "fail !!\n",
      "Use 187.17.3.4:8080\n",
      "fail !!\n",
      "Use 167.71.171.243:80\n",
      "fail !!\n",
      "Use 187.120.253.119:30181\n",
      "fail !!\n",
      "Use 139.59.62.255:3128\n",
      "fail !!\n",
      "Use 152.204.128.46:44335\n",
      "fail !!\n",
      "Use 191.241.226.230:53281\n",
      "fail !!\n",
      "Use 118.173.233.80:31559\n",
      "fail !!\n",
      "Use 190.111.231.8:8080\n",
      "fail !!\n",
      "Use 118.175.93.103:51750\n",
      "fail !!\n"
     ]
    }
   ],
   "source": [
    "for i in range(10):\n",
    "    ip = random.choice(proxy_ips)\n",
    "    print('Use', ip)\n",
    "    try:\n",
    "        resp = requests.get('http://ip.filefab.com/index.php',\n",
    "                            proxies={'http': ip}, timeout=1.0)\n",
    "        soup = BeautifulSoup(resp.text, 'html5lib')\n",
    "        print(soup.find('h1', id='ipd').text.strip())\n",
    "    except:\n",
    "        print(\"fail !!\")\n",
    "        pass"
   ]
  },
  {
   "cell_type": "code",
   "execution_count": null,
   "metadata": {},
   "outputs": [],
   "source": []
  }
 ],
 "metadata": {
  "colab": {
   "name": "homework.ipynb",
   "provenance": []
  },
  "kernelspec": {
   "display_name": "PCM",
   "language": "python",
   "name": "pcm"
  },
  "language_info": {
   "codemirror_mode": {
    "name": "ipython",
    "version": 3
   },
   "file_extension": ".py",
   "mimetype": "text/x-python",
   "name": "python",
   "nbconvert_exporter": "python",
   "pygments_lexer": "ipython3",
   "version": "3.7.5"
  }
 },
 "nbformat": 4,
 "nbformat_minor": 4
}
